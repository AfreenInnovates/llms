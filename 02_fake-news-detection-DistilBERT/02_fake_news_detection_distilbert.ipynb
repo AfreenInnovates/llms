{
 "nbformat": 4,
 "nbformat_minor": 0,
 "metadata": {
  "colab": {
   "provenance": [],
   "gpuType": "T4"
  },
  "kernelspec": {
   "name": "python3",
   "display_name": "Python 3"
  },
  "language_info": {
   "name": "python"
  },
  "accelerator": "GPU"
 },
 "cells": [
  {
   "cell_type": "markdown",
   "source": [
    "[Key Differences among Model Classes](https://medium.com/@birendrasharma0226/key-differences-among-model-classes-a060ebea34c6) <br>\n",
    "\n",
    "[What are differences between AutoModelForSequenceClassification vs AutoModel](https://stackoverflow.com/questions/69907682/what-are-differences-between-automodelforsequenceclassification-vs-automodel)"
   ],
   "metadata": {
    "id": "hkU8RLYq5p-4"
   }
  },
  {
   "cell_type": "code",
   "execution_count": null,
   "metadata": {
    "colab": {
     "base_uri": "https://localhost:8080/"
    },
    "id": "uyGq2s4ZGupN",
    "outputId": "1b5a40ef-d6fb-4bb8-fe71-ee4166667ca3"
   },
   "outputs": [
    {
     "output_type": "stream",
     "name": "stdout",
     "text": [
      "Requirement already satisfied: opendatasets in /usr/local/lib/python3.11/dist-packages (0.1.22)\n",
      "Requirement already satisfied: tqdm in /usr/local/lib/python3.11/dist-packages (from opendatasets) (4.67.1)\n",
      "Requirement already satisfied: kaggle in /usr/local/lib/python3.11/dist-packages (from opendatasets) (1.7.4.5)\n",
      "Requirement already satisfied: click in /usr/local/lib/python3.11/dist-packages (from opendatasets) (8.2.1)\n",
      "Requirement already satisfied: bleach in /usr/local/lib/python3.11/dist-packages (from kaggle->opendatasets) (6.2.0)\n",
      "Requirement already satisfied: certifi>=14.05.14 in /usr/local/lib/python3.11/dist-packages (from kaggle->opendatasets) (2025.8.3)\n",
      "Requirement already satisfied: charset-normalizer in /usr/local/lib/python3.11/dist-packages (from kaggle->opendatasets) (3.4.3)\n",
      "Requirement already satisfied: idna in /usr/local/lib/python3.11/dist-packages (from kaggle->opendatasets) (3.10)\n",
      "Requirement already satisfied: protobuf in /usr/local/lib/python3.11/dist-packages (from kaggle->opendatasets) (5.29.5)\n",
      "Requirement already satisfied: python-dateutil>=2.5.3 in /usr/local/lib/python3.11/dist-packages (from kaggle->opendatasets) (2.9.0.post0)\n",
      "Requirement already satisfied: python-slugify in /usr/local/lib/python3.11/dist-packages (from kaggle->opendatasets) (8.0.4)\n",
      "Requirement already satisfied: requests in /usr/local/lib/python3.11/dist-packages (from kaggle->opendatasets) (2.32.3)\n",
      "Requirement already satisfied: setuptools>=21.0.0 in /usr/local/lib/python3.11/dist-packages (from kaggle->opendatasets) (75.2.0)\n",
      "Requirement already satisfied: six>=1.10 in /usr/local/lib/python3.11/dist-packages (from kaggle->opendatasets) (1.17.0)\n",
      "Requirement already satisfied: text-unidecode in /usr/local/lib/python3.11/dist-packages (from kaggle->opendatasets) (1.3)\n",
      "Requirement already satisfied: urllib3>=1.15.1 in /usr/local/lib/python3.11/dist-packages (from kaggle->opendatasets) (2.5.0)\n",
      "Requirement already satisfied: webencodings in /usr/local/lib/python3.11/dist-packages (from kaggle->opendatasets) (0.5.1)\n"
     ]
    }
   ],
   "source": [
    "!pip install opendatasets"
   ]
  },
  {
   "cell_type": "code",
   "source": [
    "import opendatasets as od"
   ],
   "metadata": {
    "id": "WCPErb2QHX_v"
   },
   "execution_count": null,
   "outputs": []
  },
  {
   "cell_type": "code",
   "source": [
    "od.download(\"https://www.kaggle.com/datasets/anupampaul005/fake-news-dataset\")"
   ],
   "metadata": {
    "colab": {
     "base_uri": "https://localhost:8080/"
    },
    "id": "vNpVczhmHY18",
    "outputId": "2ef4cec5-0ecf-4769-84f5-ab4837cc2f97"
   },
   "execution_count": null,
   "outputs": [
    {
     "output_type": "stream",
     "name": "stdout",
     "text": [
      "Skipping, found downloaded files in \"./fake-news-dataset\" (use force=True to force download)\n"
     ]
    }
   ]
  },
  {
   "cell_type": "code",
   "source": [
    "import pandas as pd"
   ],
   "metadata": {
    "id": "_ir-A7XkHZ5x"
   },
   "execution_count": null,
   "outputs": []
  },
  {
   "cell_type": "code",
   "source": [
    "df = pd.read_csv(\"/content/fake-news-dataset/dataset.csv\")"
   ],
   "metadata": {
    "id": "f8AZpT8UHhhu"
   },
   "execution_count": null,
   "outputs": []
  },
  {
   "cell_type": "code",
   "source": [
    "!pip install -q -U transformers accelerate datasets bertviz umap-learn seaborn"
   ],
   "metadata": {
    "id": "JKOa_ewXHjJY"
   },
   "execution_count": null,
   "outputs": []
  },
  {
   "cell_type": "code",
   "source": [
    "!pip install -q -U openpyxl"
   ],
   "metadata": {
    "id": "1Ku3rLUxHyHX"
   },
   "execution_count": null,
   "outputs": []
  },
  {
   "cell_type": "code",
   "source": [
    "df.head()"
   ],
   "metadata": {
    "colab": {
     "base_uri": "https://localhost:8080/",
     "height": 206
    },
    "id": "L-cEpzaCI4WA",
    "outputId": "ef73a12d-498b-4f0b-971b-e8c220145721"
   },
   "execution_count": null,
   "outputs": [
    {
     "output_type": "execute_result",
     "data": {
      "text/plain": [
       "                                               title  \\\n",
       "0  WARNING: A Pivotal Moment For The Stock Market...   \n",
       "1  Trump, top defense officials, discuss North Ko...   \n",
       "2  British civil servants' union calls nationwide...   \n",
       "3   A**hole Of The Day – Michele Bachmann: Muslim...   \n",
       "4  ’Deport Fat People’ Posters Appear At CU Bould...   \n",
       "\n",
       "                                                text  unreliable  \\\n",
       "0  WARNING: A Pivotal Moment For The Stock Market...           1   \n",
       "1  WASHINGTON  - U.S. President Donald Trump met ...           0   \n",
       "2  LONDON  - British civil servants will vote nex...           0   \n",
       "3  Michele Bachmann has been pretty quiet since l...           1   \n",
       "4  Posters calling on Donald Trump to “Deport Fat...           0   \n",
       "\n",
       "                            author  \n",
       "0  Anonymous Coward (UID 72071746)  \n",
       "1                          Unknown  \n",
       "2                          Unknown  \n",
       "3                          Unknown  \n",
       "4                      Lucas Nolan  "
      ],
      "text/html": [
       "\n",
       "  <div id=\"df-9724b299-4c55-4fed-a10c-a8ae1d2f0f86\" class=\"colab-df-container\">\n",
       "    <div>\n",
       "<style scoped>\n",
       "    .dataframe tbody tr th:only-of-type {\n",
       "        vertical-align: middle;\n",
       "    }\n",
       "\n",
       "    .dataframe tbody tr th {\n",
       "        vertical-align: top;\n",
       "    }\n",
       "\n",
       "    .dataframe thead th {\n",
       "        text-align: right;\n",
       "    }\n",
       "</style>\n",
       "<table border=\"1\" class=\"dataframe\">\n",
       "  <thead>\n",
       "    <tr style=\"text-align: right;\">\n",
       "      <th></th>\n",
       "      <th>title</th>\n",
       "      <th>text</th>\n",
       "      <th>unreliable</th>\n",
       "      <th>author</th>\n",
       "    </tr>\n",
       "  </thead>\n",
       "  <tbody>\n",
       "    <tr>\n",
       "      <th>0</th>\n",
       "      <td>WARNING: A Pivotal Moment For The Stock Market...</td>\n",
       "      <td>WARNING: A Pivotal Moment For The Stock Market...</td>\n",
       "      <td>1</td>\n",
       "      <td>Anonymous Coward (UID 72071746)</td>\n",
       "    </tr>\n",
       "    <tr>\n",
       "      <th>1</th>\n",
       "      <td>Trump, top defense officials, discuss North Ko...</td>\n",
       "      <td>WASHINGTON  - U.S. President Donald Trump met ...</td>\n",
       "      <td>0</td>\n",
       "      <td>Unknown</td>\n",
       "    </tr>\n",
       "    <tr>\n",
       "      <th>2</th>\n",
       "      <td>British civil servants' union calls nationwide...</td>\n",
       "      <td>LONDON  - British civil servants will vote nex...</td>\n",
       "      <td>0</td>\n",
       "      <td>Unknown</td>\n",
       "    </tr>\n",
       "    <tr>\n",
       "      <th>3</th>\n",
       "      <td>A**hole Of The Day – Michele Bachmann: Muslim...</td>\n",
       "      <td>Michele Bachmann has been pretty quiet since l...</td>\n",
       "      <td>1</td>\n",
       "      <td>Unknown</td>\n",
       "    </tr>\n",
       "    <tr>\n",
       "      <th>4</th>\n",
       "      <td>’Deport Fat People’ Posters Appear At CU Bould...</td>\n",
       "      <td>Posters calling on Donald Trump to “Deport Fat...</td>\n",
       "      <td>0</td>\n",
       "      <td>Lucas Nolan</td>\n",
       "    </tr>\n",
       "  </tbody>\n",
       "</table>\n",
       "</div>\n",
       "    <div class=\"colab-df-buttons\">\n",
       "\n",
       "  <div class=\"colab-df-container\">\n",
       "    <button class=\"colab-df-convert\" onclick=\"convertToInteractive('df-9724b299-4c55-4fed-a10c-a8ae1d2f0f86')\"\n",
       "            title=\"Convert this dataframe to an interactive table.\"\n",
       "            style=\"display:none;\">\n",
       "\n",
       "  <svg xmlns=\"http://www.w3.org/2000/svg\" height=\"24px\" viewBox=\"0 -960 960 960\">\n",
       "    <path d=\"M120-120v-720h720v720H120Zm60-500h600v-160H180v160Zm220 220h160v-160H400v160Zm0 220h160v-160H400v160ZM180-400h160v-160H180v160Zm440 0h160v-160H620v160ZM180-180h160v-160H180v160Zm440 0h160v-160H620v160Z\"/>\n",
       "  </svg>\n",
       "    </button>\n",
       "\n",
       "  <style>\n",
       "    .colab-df-container {\n",
       "      display:flex;\n",
       "      gap: 12px;\n",
       "    }\n",
       "\n",
       "    .colab-df-convert {\n",
       "      background-color: #E8F0FE;\n",
       "      border: none;\n",
       "      border-radius: 50%;\n",
       "      cursor: pointer;\n",
       "      display: none;\n",
       "      fill: #1967D2;\n",
       "      height: 32px;\n",
       "      padding: 0 0 0 0;\n",
       "      width: 32px;\n",
       "    }\n",
       "\n",
       "    .colab-df-convert:hover {\n",
       "      background-color: #E2EBFA;\n",
       "      box-shadow: 0px 1px 2px rgba(60, 64, 67, 0.3), 0px 1px 3px 1px rgba(60, 64, 67, 0.15);\n",
       "      fill: #174EA6;\n",
       "    }\n",
       "\n",
       "    .colab-df-buttons div {\n",
       "      margin-bottom: 4px;\n",
       "    }\n",
       "\n",
       "    [theme=dark] .colab-df-convert {\n",
       "      background-color: #3B4455;\n",
       "      fill: #D2E3FC;\n",
       "    }\n",
       "\n",
       "    [theme=dark] .colab-df-convert:hover {\n",
       "      background-color: #434B5C;\n",
       "      box-shadow: 0px 1px 3px 1px rgba(0, 0, 0, 0.15);\n",
       "      filter: drop-shadow(0px 1px 2px rgba(0, 0, 0, 0.3));\n",
       "      fill: #FFFFFF;\n",
       "    }\n",
       "  </style>\n",
       "\n",
       "    <script>\n",
       "      const buttonEl =\n",
       "        document.querySelector('#df-9724b299-4c55-4fed-a10c-a8ae1d2f0f86 button.colab-df-convert');\n",
       "      buttonEl.style.display =\n",
       "        google.colab.kernel.accessAllowed ? 'block' : 'none';\n",
       "\n",
       "      async function convertToInteractive(key) {\n",
       "        const element = document.querySelector('#df-9724b299-4c55-4fed-a10c-a8ae1d2f0f86');\n",
       "        const dataTable =\n",
       "          await google.colab.kernel.invokeFunction('convertToInteractive',\n",
       "                                                    [key], {});\n",
       "        if (!dataTable) return;\n",
       "\n",
       "        const docLinkHtml = 'Like what you see? Visit the ' +\n",
       "          '<a target=\"_blank\" href=https://colab.research.google.com/notebooks/data_table.ipynb>data table notebook</a>'\n",
       "          + ' to learn more about interactive tables.';\n",
       "        element.innerHTML = '';\n",
       "        dataTable['output_type'] = 'display_data';\n",
       "        await google.colab.output.renderOutput(dataTable, element);\n",
       "        const docLink = document.createElement('div');\n",
       "        docLink.innerHTML = docLinkHtml;\n",
       "        element.appendChild(docLink);\n",
       "      }\n",
       "    </script>\n",
       "  </div>\n",
       "\n",
       "\n",
       "    <div id=\"df-0cad516d-c64d-4008-a377-1f5476c3ba8d\">\n",
       "      <button class=\"colab-df-quickchart\" onclick=\"quickchart('df-0cad516d-c64d-4008-a377-1f5476c3ba8d')\"\n",
       "                title=\"Suggest charts\"\n",
       "                style=\"display:none;\">\n",
       "\n",
       "<svg xmlns=\"http://www.w3.org/2000/svg\" height=\"24px\"viewBox=\"0 0 24 24\"\n",
       "     width=\"24px\">\n",
       "    <g>\n",
       "        <path d=\"M19 3H5c-1.1 0-2 .9-2 2v14c0 1.1.9 2 2 2h14c1.1 0 2-.9 2-2V5c0-1.1-.9-2-2-2zM9 17H7v-7h2v7zm4 0h-2V7h2v10zm4 0h-2v-4h2v4z\"/>\n",
       "    </g>\n",
       "</svg>\n",
       "      </button>\n",
       "\n",
       "<style>\n",
       "  .colab-df-quickchart {\n",
       "      --bg-color: #E8F0FE;\n",
       "      --fill-color: #1967D2;\n",
       "      --hover-bg-color: #E2EBFA;\n",
       "      --hover-fill-color: #174EA6;\n",
       "      --disabled-fill-color: #AAA;\n",
       "      --disabled-bg-color: #DDD;\n",
       "  }\n",
       "\n",
       "  [theme=dark] .colab-df-quickchart {\n",
       "      --bg-color: #3B4455;\n",
       "      --fill-color: #D2E3FC;\n",
       "      --hover-bg-color: #434B5C;\n",
       "      --hover-fill-color: #FFFFFF;\n",
       "      --disabled-bg-color: #3B4455;\n",
       "      --disabled-fill-color: #666;\n",
       "  }\n",
       "\n",
       "  .colab-df-quickchart {\n",
       "    background-color: var(--bg-color);\n",
       "    border: none;\n",
       "    border-radius: 50%;\n",
       "    cursor: pointer;\n",
       "    display: none;\n",
       "    fill: var(--fill-color);\n",
       "    height: 32px;\n",
       "    padding: 0;\n",
       "    width: 32px;\n",
       "  }\n",
       "\n",
       "  .colab-df-quickchart:hover {\n",
       "    background-color: var(--hover-bg-color);\n",
       "    box-shadow: 0 1px 2px rgba(60, 64, 67, 0.3), 0 1px 3px 1px rgba(60, 64, 67, 0.15);\n",
       "    fill: var(--button-hover-fill-color);\n",
       "  }\n",
       "\n",
       "  .colab-df-quickchart-complete:disabled,\n",
       "  .colab-df-quickchart-complete:disabled:hover {\n",
       "    background-color: var(--disabled-bg-color);\n",
       "    fill: var(--disabled-fill-color);\n",
       "    box-shadow: none;\n",
       "  }\n",
       "\n",
       "  .colab-df-spinner {\n",
       "    border: 2px solid var(--fill-color);\n",
       "    border-color: transparent;\n",
       "    border-bottom-color: var(--fill-color);\n",
       "    animation:\n",
       "      spin 1s steps(1) infinite;\n",
       "  }\n",
       "\n",
       "  @keyframes spin {\n",
       "    0% {\n",
       "      border-color: transparent;\n",
       "      border-bottom-color: var(--fill-color);\n",
       "      border-left-color: var(--fill-color);\n",
       "    }\n",
       "    20% {\n",
       "      border-color: transparent;\n",
       "      border-left-color: var(--fill-color);\n",
       "      border-top-color: var(--fill-color);\n",
       "    }\n",
       "    30% {\n",
       "      border-color: transparent;\n",
       "      border-left-color: var(--fill-color);\n",
       "      border-top-color: var(--fill-color);\n",
       "      border-right-color: var(--fill-color);\n",
       "    }\n",
       "    40% {\n",
       "      border-color: transparent;\n",
       "      border-right-color: var(--fill-color);\n",
       "      border-top-color: var(--fill-color);\n",
       "    }\n",
       "    60% {\n",
       "      border-color: transparent;\n",
       "      border-right-color: var(--fill-color);\n",
       "    }\n",
       "    80% {\n",
       "      border-color: transparent;\n",
       "      border-right-color: var(--fill-color);\n",
       "      border-bottom-color: var(--fill-color);\n",
       "    }\n",
       "    90% {\n",
       "      border-color: transparent;\n",
       "      border-bottom-color: var(--fill-color);\n",
       "    }\n",
       "  }\n",
       "</style>\n",
       "\n",
       "      <script>\n",
       "        async function quickchart(key) {\n",
       "          const quickchartButtonEl =\n",
       "            document.querySelector('#' + key + ' button');\n",
       "          quickchartButtonEl.disabled = true;  // To prevent multiple clicks.\n",
       "          quickchartButtonEl.classList.add('colab-df-spinner');\n",
       "          try {\n",
       "            const charts = await google.colab.kernel.invokeFunction(\n",
       "                'suggestCharts', [key], {});\n",
       "          } catch (error) {\n",
       "            console.error('Error during call to suggestCharts:', error);\n",
       "          }\n",
       "          quickchartButtonEl.classList.remove('colab-df-spinner');\n",
       "          quickchartButtonEl.classList.add('colab-df-quickchart-complete');\n",
       "        }\n",
       "        (() => {\n",
       "          let quickchartButtonEl =\n",
       "            document.querySelector('#df-0cad516d-c64d-4008-a377-1f5476c3ba8d button');\n",
       "          quickchartButtonEl.style.display =\n",
       "            google.colab.kernel.accessAllowed ? 'block' : 'none';\n",
       "        })();\n",
       "      </script>\n",
       "    </div>\n",
       "\n",
       "    </div>\n",
       "  </div>\n"
      ],
      "application/vnd.google.colaboratory.intrinsic+json": {
       "type": "dataframe",
       "variable_name": "df",
       "summary": "{\n  \"name\": \"df\",\n  \"rows\": 65698,\n  \"fields\": [\n    {\n      \"column\": \"title\",\n      \"properties\": {\n        \"dtype\": \"string\",\n        \"num_unique_values\": 58507,\n        \"samples\": [\n          \"Edward Snowden: Journalists Are Endangered Species In America\",\n          \"Turkey detained more than 1,200 people in last week\",\n          \"Ryan, House Republicans offer plan to slice U.S. tax rates\"\n        ],\n        \"semantic_type\": \"\",\n        \"description\": \"\"\n      }\n    },\n    {\n      \"column\": \"text\",\n      \"properties\": {\n        \"dtype\": \"string\",\n        \"num_unique_values\": 59029,\n        \"samples\": [\n          \"- A federal judge on Tuesday blocked an Obama administration rule to extend mandatory overtime pay to more than 4 million salaried workers from taking effect, imperiling one of the outgoing president\\u2019s signature achievements for boosting wages. U.S. District Judge Amos Mazzant, in Sherman, Texas, agreed with 21 states and a coalition of business groups, including the U.S. Chamber of Commerce, that the rule is unlawful and granted their motion for a nationwide injunction.  The rule, issued by the Labor Department, was to take effect Dec. 1 and would have doubled to $47,500 the maximum salary a worker can earn and still be eligible for mandatory overtime pay. The new threshold would have been the first significant change in four decades. It was expected to touch nearly every sector of the U.S. economy and have the greatest impact on nonprofit groups, retail companies, hotels and restaurants, which have many management workers whose salaries are below the new threshold. The states and business groups claimed in lawsuits filed in September, which were later consolidated, that the drastic increase in the salary threshold was arbitrary. On Tuesday, Mazzant, who was appointed by President Barack Obama, ruled that the federal law governing overtime does not allow the Labor Department to decide which workers are eligible based on salary levels alone. The Fair Labor Standards Act says that employees can be exempt from overtime if they perform executive, administrative or professional duties, but the rule \\u201ccreates essentially a de facto salary-only test,\\u201d Mazzant wrote in the 20-page ruling. The states and business groups that challenged the rule applauded the decision. Nevada Attorney General Adam Paul Laxalt said in a statement that the ruling \\u201creinforces the importance of the rule of law and constitutional government.\\u201d The Labor Department said it strongly disagrees with the decision. It remains confident that the entire rule is legal, and it is currently considering its options, department spokesman Jason Surbey said. The Labor Department can appeal to the New Orleans, Louisiana-based 5th U.S. Circuit Court of Appeals, but that court has stymied the Obama administration before, blocking Obama\\u2019s executive actions on immigration in 2015. In any case, the Labor Department could drop the appeal after Republican President-elect Donald Trump takes office in January. In August, Trump told the website Circa that the overtime rule was an example of the type of burdensome business regulations he would seek to roll back as president, perhaps by exempting small businesses or delaying implementation. Even if the rule survived the legal challenge, it could be upended by legislation passed by Congress or withdrawn by Trump\\u2019s Department of Labor.   U.S. Chamber of Commerce official Randy Johnson said in a statement that the rule would have been costly and disruptive to businesses. But Ross Eisenbrey of the left-leaning Economic Policy Institute, which supported the rule, called the decision \\u201cextreme and unsupportable.\\u201d \\u201cIt is also a disappointment to millions of workers who are forced to work long hours with no extra compensation, and is a blow to those Americans who care deeply about raising wages and lessening inequality,\\u201d Eisenbrey said in a statement. The case is Nevada v. U.S. Department of Labor, U.S. District Court for the Eastern District of Texas, No. 16-cv-731.\",\n          \"What a great place to take the whole family!Welcome to the liberal utopia of Germany Things are so bad authorities are posting no defecating in the shower signs.Via Instapundit:The migrants have also tried to storm them women s locker room. Der Bild reported (translated) via Vlad Tepes:Outrageous accusations coming from the Zwickau Townhall: According to B der GmbH, (Baths Inc.) refugees are masturbating and defecating into the water. And they also harass women in the Sauna and have tried to storm the women s changing rooms.All this and more is written in a report from January 19th. Rainer Kallwait, ordinance department leader for B der GmbH, wrote the report for the safety related services of B der GmbH. The city administration has confirmed the authenticity of the report.Kallweit writes of a memo from Johannisbad Swimming Pool. In it it says, among other things: One asylum seeker masturbated in the whirlpool and ejaculated into the water. It is recorded on surveillance camera.  And,  The swimming pool supervisor threw him out. The asylum seeker came back with comrades to get his cell phone. Together the  visitors , hooting and jeering, took a selfie in the whirlpool. The day before  8 foreign men  were in the Sauma .  The local people felt harassed. When women are in the Sauna, asylum seekers are now told that the Sauna is closed. In general refugees only have free access to the swimming pool. They would have to pay for the use of the Sauna. But they won t do that, according to B der GmbH:  When they were prompted to pay up at the register, they turned around, laughed and left. Similar can be read in a memo of  Gl ck-Auf-Schwimmhalle , Halle, in Kallwait s report. A group of  youths, single men and children with guardians  visited said pool in Halle on January 9th. Since none of them could swim,  they used the kids pool. The users contaminated the pool by way of emptying their intestines. Local guests immediately left the pool. Here s another sign telling migrants to not grab women s butts at the pool.Via: Gateway Pundit\",\n          \"The first official meeting between Trump and Russian president Vladimir Putin was captured on what appears to be a cellphone recording   and it s cringeworthy.Trump, who famously views handshakes as a  power contest  and often clamps down and yanks, gives Putin a warm one, placing his other hand on Putin s forearm. Adding to the surreal friendliness of the moment, as the two begin to talk, Trump reaches out, and for reasons that will forever remain inexplicable, appears to pat or rub Putin s upper back.It s official: Donald Trump and Vladimir Putin met at the G20 summit. Watch the event live here: https://t.co/gYrGULM9El pic.twitter.com/CL6f7G7dSp  Newsweek (@Newsweek) July 7, 2017It was a bizarre statement to make, particularly to one of America s foremost adversaries and the one linked to hacking that interfered with the 2016 election.During Trump s public sit-down with Putin, he managed to botch things further. In yet another attempt at getting on Putin s good side, Trump said he was  honored  to be with Putin. The word choice is a diplomatic faux pas, signaling a weak position. Putin ate it up, then simply said he was  delighted  to meet Trump. Note the difference.As Huffington Post reporter Yashar Ali explains, the awkward interaction could have been avoided if Trump would read his briefings.Trump to Putin \\\"it's an honor to be with you.\\\" Had he been willing to receive a briefing he would have been told to avoid words like \\\"honor\\\" pic.twitter.com/oYFlutDFpi  Yashar Ali (@yashar) July 7, 20172. In briefings, principals like Trump will be told how to avoid becoming propaganda material.  Yashar Ali (@yashar) July 7, 20173. But if you don't take briefings, if you're impatient + have a difficult time reading long briefing books you'll miss out on these details  Yashar Ali (@yashar) July 7, 2017Recently, it was reported that Trump s exasperated staff have taken to reducing briefings down to  Twitter-length  memos in an effort to entice Trump to read them. Apparently, it either didn t work or the nuances of international diplomacy weren t properly conveyed in 140 characters. Trump is falling into every trap.The meeting was undoubtedly a disaster for American foreign policy, but Putin seems to be having a great time. By receiving praise from the U.S. president who he helped get elected by undermining American democracy, the Russian autocrat signaled that he has Trump eating out of his hand. The photos and videos of the meeting will likely be hastily broadcast to every corner of Russia to reinforce Putin s dominance over America s president.And Trump, who couldn t be bothered to read the memos warning him of this, probably has no idea.Featured image via Twitter\"\n        ],\n        \"semantic_type\": \"\",\n        \"description\": \"\"\n      }\n    },\n    {\n      \"column\": \"unreliable\",\n      \"properties\": {\n        \"dtype\": \"number\",\n        \"std\": 0,\n        \"min\": 0,\n        \"max\": 1,\n        \"num_unique_values\": 2,\n        \"samples\": [\n          0,\n          1\n        ],\n        \"semantic_type\": \"\",\n        \"description\": \"\"\n      }\n    },\n    {\n      \"column\": \"author\",\n      \"properties\": {\n        \"dtype\": \"category\",\n        \"num_unique_values\": 4202,\n        \"samples\": [\n          \"Esha Chhabra\",\n          \"Choe Sang-Hun and Rick Gladstone\"\n        ],\n        \"semantic_type\": \"\",\n        \"description\": \"\"\n      }\n    }\n  ]\n}"
      }
     },
     "metadata": {},
     "execution_count": 75
    }
   ]
  },
  {
   "cell_type": "code",
   "source": [
    "df.info()"
   ],
   "metadata": {
    "colab": {
     "base_uri": "https://localhost:8080/"
    },
    "id": "jXQCXw-3JMuz",
    "outputId": "61fe24af-1de8-45af-b010-4ae6a5af1132"
   },
   "execution_count": null,
   "outputs": [
    {
     "output_type": "stream",
     "name": "stdout",
     "text": [
      "<class 'pandas.core.frame.DataFrame'>\n",
      "RangeIndex: 65698 entries, 0 to 65697\n",
      "Data columns (total 4 columns):\n",
      " #   Column      Non-Null Count  Dtype \n",
      "---  ------      --------------  ----- \n",
      " 0   title       65140 non-null  object\n",
      " 1   text        65658 non-null  object\n",
      " 2   unreliable  65698 non-null  int64 \n",
      " 3   author      63741 non-null  object\n",
      "dtypes: int64(1), object(3)\n",
      "memory usage: 2.0+ MB\n"
     ]
    }
   ]
  },
  {
   "cell_type": "code",
   "source": [
    "df.describe()"
   ],
   "metadata": {
    "colab": {
     "base_uri": "https://localhost:8080/",
     "height": 300
    },
    "id": "5kwndvV_JNuN",
    "outputId": "608f9e0f-8d82-40f8-cc50-d7e625ecf92c"
   },
   "execution_count": null,
   "outputs": [
    {
     "output_type": "execute_result",
     "data": {
      "text/plain": [
       "         unreliable\n",
       "count  65698.000000\n",
       "mean       0.515906\n",
       "std        0.499751\n",
       "min        0.000000\n",
       "25%        0.000000\n",
       "50%        1.000000\n",
       "75%        1.000000\n",
       "max        1.000000"
      ],
      "text/html": [
       "\n",
       "  <div id=\"df-533bd6ee-86fb-4eec-8132-1a0430ba2238\" class=\"colab-df-container\">\n",
       "    <div>\n",
       "<style scoped>\n",
       "    .dataframe tbody tr th:only-of-type {\n",
       "        vertical-align: middle;\n",
       "    }\n",
       "\n",
       "    .dataframe tbody tr th {\n",
       "        vertical-align: top;\n",
       "    }\n",
       "\n",
       "    .dataframe thead th {\n",
       "        text-align: right;\n",
       "    }\n",
       "</style>\n",
       "<table border=\"1\" class=\"dataframe\">\n",
       "  <thead>\n",
       "    <tr style=\"text-align: right;\">\n",
       "      <th></th>\n",
       "      <th>unreliable</th>\n",
       "    </tr>\n",
       "  </thead>\n",
       "  <tbody>\n",
       "    <tr>\n",
       "      <th>count</th>\n",
       "      <td>65698.000000</td>\n",
       "    </tr>\n",
       "    <tr>\n",
       "      <th>mean</th>\n",
       "      <td>0.515906</td>\n",
       "    </tr>\n",
       "    <tr>\n",
       "      <th>std</th>\n",
       "      <td>0.499751</td>\n",
       "    </tr>\n",
       "    <tr>\n",
       "      <th>min</th>\n",
       "      <td>0.000000</td>\n",
       "    </tr>\n",
       "    <tr>\n",
       "      <th>25%</th>\n",
       "      <td>0.000000</td>\n",
       "    </tr>\n",
       "    <tr>\n",
       "      <th>50%</th>\n",
       "      <td>1.000000</td>\n",
       "    </tr>\n",
       "    <tr>\n",
       "      <th>75%</th>\n",
       "      <td>1.000000</td>\n",
       "    </tr>\n",
       "    <tr>\n",
       "      <th>max</th>\n",
       "      <td>1.000000</td>\n",
       "    </tr>\n",
       "  </tbody>\n",
       "</table>\n",
       "</div>\n",
       "    <div class=\"colab-df-buttons\">\n",
       "\n",
       "  <div class=\"colab-df-container\">\n",
       "    <button class=\"colab-df-convert\" onclick=\"convertToInteractive('df-533bd6ee-86fb-4eec-8132-1a0430ba2238')\"\n",
       "            title=\"Convert this dataframe to an interactive table.\"\n",
       "            style=\"display:none;\">\n",
       "\n",
       "  <svg xmlns=\"http://www.w3.org/2000/svg\" height=\"24px\" viewBox=\"0 -960 960 960\">\n",
       "    <path d=\"M120-120v-720h720v720H120Zm60-500h600v-160H180v160Zm220 220h160v-160H400v160Zm0 220h160v-160H400v160ZM180-400h160v-160H180v160Zm440 0h160v-160H620v160ZM180-180h160v-160H180v160Zm440 0h160v-160H620v160Z\"/>\n",
       "  </svg>\n",
       "    </button>\n",
       "\n",
       "  <style>\n",
       "    .colab-df-container {\n",
       "      display:flex;\n",
       "      gap: 12px;\n",
       "    }\n",
       "\n",
       "    .colab-df-convert {\n",
       "      background-color: #E8F0FE;\n",
       "      border: none;\n",
       "      border-radius: 50%;\n",
       "      cursor: pointer;\n",
       "      display: none;\n",
       "      fill: #1967D2;\n",
       "      height: 32px;\n",
       "      padding: 0 0 0 0;\n",
       "      width: 32px;\n",
       "    }\n",
       "\n",
       "    .colab-df-convert:hover {\n",
       "      background-color: #E2EBFA;\n",
       "      box-shadow: 0px 1px 2px rgba(60, 64, 67, 0.3), 0px 1px 3px 1px rgba(60, 64, 67, 0.15);\n",
       "      fill: #174EA6;\n",
       "    }\n",
       "\n",
       "    .colab-df-buttons div {\n",
       "      margin-bottom: 4px;\n",
       "    }\n",
       "\n",
       "    [theme=dark] .colab-df-convert {\n",
       "      background-color: #3B4455;\n",
       "      fill: #D2E3FC;\n",
       "    }\n",
       "\n",
       "    [theme=dark] .colab-df-convert:hover {\n",
       "      background-color: #434B5C;\n",
       "      box-shadow: 0px 1px 3px 1px rgba(0, 0, 0, 0.15);\n",
       "      filter: drop-shadow(0px 1px 2px rgba(0, 0, 0, 0.3));\n",
       "      fill: #FFFFFF;\n",
       "    }\n",
       "  </style>\n",
       "\n",
       "    <script>\n",
       "      const buttonEl =\n",
       "        document.querySelector('#df-533bd6ee-86fb-4eec-8132-1a0430ba2238 button.colab-df-convert');\n",
       "      buttonEl.style.display =\n",
       "        google.colab.kernel.accessAllowed ? 'block' : 'none';\n",
       "\n",
       "      async function convertToInteractive(key) {\n",
       "        const element = document.querySelector('#df-533bd6ee-86fb-4eec-8132-1a0430ba2238');\n",
       "        const dataTable =\n",
       "          await google.colab.kernel.invokeFunction('convertToInteractive',\n",
       "                                                    [key], {});\n",
       "        if (!dataTable) return;\n",
       "\n",
       "        const docLinkHtml = 'Like what you see? Visit the ' +\n",
       "          '<a target=\"_blank\" href=https://colab.research.google.com/notebooks/data_table.ipynb>data table notebook</a>'\n",
       "          + ' to learn more about interactive tables.';\n",
       "        element.innerHTML = '';\n",
       "        dataTable['output_type'] = 'display_data';\n",
       "        await google.colab.output.renderOutput(dataTable, element);\n",
       "        const docLink = document.createElement('div');\n",
       "        docLink.innerHTML = docLinkHtml;\n",
       "        element.appendChild(docLink);\n",
       "      }\n",
       "    </script>\n",
       "  </div>\n",
       "\n",
       "\n",
       "    <div id=\"df-0be2e71b-d115-42c2-b157-7978e3a205ab\">\n",
       "      <button class=\"colab-df-quickchart\" onclick=\"quickchart('df-0be2e71b-d115-42c2-b157-7978e3a205ab')\"\n",
       "                title=\"Suggest charts\"\n",
       "                style=\"display:none;\">\n",
       "\n",
       "<svg xmlns=\"http://www.w3.org/2000/svg\" height=\"24px\"viewBox=\"0 0 24 24\"\n",
       "     width=\"24px\">\n",
       "    <g>\n",
       "        <path d=\"M19 3H5c-1.1 0-2 .9-2 2v14c0 1.1.9 2 2 2h14c1.1 0 2-.9 2-2V5c0-1.1-.9-2-2-2zM9 17H7v-7h2v7zm4 0h-2V7h2v10zm4 0h-2v-4h2v4z\"/>\n",
       "    </g>\n",
       "</svg>\n",
       "      </button>\n",
       "\n",
       "<style>\n",
       "  .colab-df-quickchart {\n",
       "      --bg-color: #E8F0FE;\n",
       "      --fill-color: #1967D2;\n",
       "      --hover-bg-color: #E2EBFA;\n",
       "      --hover-fill-color: #174EA6;\n",
       "      --disabled-fill-color: #AAA;\n",
       "      --disabled-bg-color: #DDD;\n",
       "  }\n",
       "\n",
       "  [theme=dark] .colab-df-quickchart {\n",
       "      --bg-color: #3B4455;\n",
       "      --fill-color: #D2E3FC;\n",
       "      --hover-bg-color: #434B5C;\n",
       "      --hover-fill-color: #FFFFFF;\n",
       "      --disabled-bg-color: #3B4455;\n",
       "      --disabled-fill-color: #666;\n",
       "  }\n",
       "\n",
       "  .colab-df-quickchart {\n",
       "    background-color: var(--bg-color);\n",
       "    border: none;\n",
       "    border-radius: 50%;\n",
       "    cursor: pointer;\n",
       "    display: none;\n",
       "    fill: var(--fill-color);\n",
       "    height: 32px;\n",
       "    padding: 0;\n",
       "    width: 32px;\n",
       "  }\n",
       "\n",
       "  .colab-df-quickchart:hover {\n",
       "    background-color: var(--hover-bg-color);\n",
       "    box-shadow: 0 1px 2px rgba(60, 64, 67, 0.3), 0 1px 3px 1px rgba(60, 64, 67, 0.15);\n",
       "    fill: var(--button-hover-fill-color);\n",
       "  }\n",
       "\n",
       "  .colab-df-quickchart-complete:disabled,\n",
       "  .colab-df-quickchart-complete:disabled:hover {\n",
       "    background-color: var(--disabled-bg-color);\n",
       "    fill: var(--disabled-fill-color);\n",
       "    box-shadow: none;\n",
       "  }\n",
       "\n",
       "  .colab-df-spinner {\n",
       "    border: 2px solid var(--fill-color);\n",
       "    border-color: transparent;\n",
       "    border-bottom-color: var(--fill-color);\n",
       "    animation:\n",
       "      spin 1s steps(1) infinite;\n",
       "  }\n",
       "\n",
       "  @keyframes spin {\n",
       "    0% {\n",
       "      border-color: transparent;\n",
       "      border-bottom-color: var(--fill-color);\n",
       "      border-left-color: var(--fill-color);\n",
       "    }\n",
       "    20% {\n",
       "      border-color: transparent;\n",
       "      border-left-color: var(--fill-color);\n",
       "      border-top-color: var(--fill-color);\n",
       "    }\n",
       "    30% {\n",
       "      border-color: transparent;\n",
       "      border-left-color: var(--fill-color);\n",
       "      border-top-color: var(--fill-color);\n",
       "      border-right-color: var(--fill-color);\n",
       "    }\n",
       "    40% {\n",
       "      border-color: transparent;\n",
       "      border-right-color: var(--fill-color);\n",
       "      border-top-color: var(--fill-color);\n",
       "    }\n",
       "    60% {\n",
       "      border-color: transparent;\n",
       "      border-right-color: var(--fill-color);\n",
       "    }\n",
       "    80% {\n",
       "      border-color: transparent;\n",
       "      border-right-color: var(--fill-color);\n",
       "      border-bottom-color: var(--fill-color);\n",
       "    }\n",
       "    90% {\n",
       "      border-color: transparent;\n",
       "      border-bottom-color: var(--fill-color);\n",
       "    }\n",
       "  }\n",
       "</style>\n",
       "\n",
       "      <script>\n",
       "        async function quickchart(key) {\n",
       "          const quickchartButtonEl =\n",
       "            document.querySelector('#' + key + ' button');\n",
       "          quickchartButtonEl.disabled = true;  // To prevent multiple clicks.\n",
       "          quickchartButtonEl.classList.add('colab-df-spinner');\n",
       "          try {\n",
       "            const charts = await google.colab.kernel.invokeFunction(\n",
       "                'suggestCharts', [key], {});\n",
       "          } catch (error) {\n",
       "            console.error('Error during call to suggestCharts:', error);\n",
       "          }\n",
       "          quickchartButtonEl.classList.remove('colab-df-spinner');\n",
       "          quickchartButtonEl.classList.add('colab-df-quickchart-complete');\n",
       "        }\n",
       "        (() => {\n",
       "          let quickchartButtonEl =\n",
       "            document.querySelector('#df-0be2e71b-d115-42c2-b157-7978e3a205ab button');\n",
       "          quickchartButtonEl.style.display =\n",
       "            google.colab.kernel.accessAllowed ? 'block' : 'none';\n",
       "        })();\n",
       "      </script>\n",
       "    </div>\n",
       "\n",
       "    </div>\n",
       "  </div>\n"
      ],
      "application/vnd.google.colaboratory.intrinsic+json": {
       "type": "dataframe",
       "summary": "{\n  \"name\": \"df\",\n  \"rows\": 8,\n  \"fields\": [\n    {\n      \"column\": \"unreliable\",\n      \"properties\": {\n        \"dtype\": \"number\",\n        \"std\": 23227.547837625534,\n        \"min\": 0.0,\n        \"max\": 65698.0,\n        \"num_unique_values\": 5,\n        \"samples\": [\n          0.5159061158634966,\n          1.0,\n          0.4997507348428684\n        ],\n        \"semantic_type\": \"\",\n        \"description\": \"\"\n      }\n    }\n  ]\n}"
      }
     },
     "metadata": {},
     "execution_count": 77
    }
   ]
  },
  {
   "cell_type": "code",
   "source": [
    "df.isnull().sum()"
   ],
   "metadata": {
    "colab": {
     "base_uri": "https://localhost:8080/",
     "height": 210
    },
    "id": "hXzRjKYGJOVr",
    "outputId": "e777b80a-ccb7-4de8-d549-d0ab4c3754a9"
   },
   "execution_count": null,
   "outputs": [
    {
     "output_type": "execute_result",
     "data": {
      "text/plain": [
       "title          558\n",
       "text            40\n",
       "unreliable       0\n",
       "author        1957\n",
       "dtype: int64"
      ],
      "text/html": [
       "<div>\n",
       "<style scoped>\n",
       "    .dataframe tbody tr th:only-of-type {\n",
       "        vertical-align: middle;\n",
       "    }\n",
       "\n",
       "    .dataframe tbody tr th {\n",
       "        vertical-align: top;\n",
       "    }\n",
       "\n",
       "    .dataframe thead th {\n",
       "        text-align: right;\n",
       "    }\n",
       "</style>\n",
       "<table border=\"1\" class=\"dataframe\">\n",
       "  <thead>\n",
       "    <tr style=\"text-align: right;\">\n",
       "      <th></th>\n",
       "      <th>0</th>\n",
       "    </tr>\n",
       "  </thead>\n",
       "  <tbody>\n",
       "    <tr>\n",
       "      <th>title</th>\n",
       "      <td>558</td>\n",
       "    </tr>\n",
       "    <tr>\n",
       "      <th>text</th>\n",
       "      <td>40</td>\n",
       "    </tr>\n",
       "    <tr>\n",
       "      <th>unreliable</th>\n",
       "      <td>0</td>\n",
       "    </tr>\n",
       "    <tr>\n",
       "      <th>author</th>\n",
       "      <td>1957</td>\n",
       "    </tr>\n",
       "  </tbody>\n",
       "</table>\n",
       "</div><br><label><b>dtype:</b> int64</label>"
      ]
     },
     "metadata": {},
     "execution_count": 78
    }
   ]
  },
  {
   "cell_type": "code",
   "source": [
    "df = df.dropna()"
   ],
   "metadata": {
    "id": "1cEdhrOZJQly"
   },
   "execution_count": null,
   "outputs": []
  },
  {
   "cell_type": "code",
   "source": [
    "df.isnull().sum()"
   ],
   "metadata": {
    "colab": {
     "base_uri": "https://localhost:8080/",
     "height": 210
    },
    "id": "WnObXE4GJTP6",
    "outputId": "1cb2860c-73ec-4f5e-b7f9-e04c09c0b1d4"
   },
   "execution_count": null,
   "outputs": [
    {
     "output_type": "execute_result",
     "data": {
      "text/plain": [
       "title         0\n",
       "text          0\n",
       "unreliable    0\n",
       "author        0\n",
       "dtype: int64"
      ],
      "text/html": [
       "<div>\n",
       "<style scoped>\n",
       "    .dataframe tbody tr th:only-of-type {\n",
       "        vertical-align: middle;\n",
       "    }\n",
       "\n",
       "    .dataframe tbody tr th {\n",
       "        vertical-align: top;\n",
       "    }\n",
       "\n",
       "    .dataframe thead th {\n",
       "        text-align: right;\n",
       "    }\n",
       "</style>\n",
       "<table border=\"1\" class=\"dataframe\">\n",
       "  <thead>\n",
       "    <tr style=\"text-align: right;\">\n",
       "      <th></th>\n",
       "      <th>0</th>\n",
       "    </tr>\n",
       "  </thead>\n",
       "  <tbody>\n",
       "    <tr>\n",
       "      <th>title</th>\n",
       "      <td>0</td>\n",
       "    </tr>\n",
       "    <tr>\n",
       "      <th>text</th>\n",
       "      <td>0</td>\n",
       "    </tr>\n",
       "    <tr>\n",
       "      <th>unreliable</th>\n",
       "      <td>0</td>\n",
       "    </tr>\n",
       "    <tr>\n",
       "      <th>author</th>\n",
       "      <td>0</td>\n",
       "    </tr>\n",
       "  </tbody>\n",
       "</table>\n",
       "</div><br><label><b>dtype:</b> int64</label>"
      ]
     },
     "metadata": {},
     "execution_count": 80
    }
   ]
  },
  {
   "cell_type": "code",
   "source": [
    "df.shape"
   ],
   "metadata": {
    "colab": {
     "base_uri": "https://localhost:8080/"
    },
    "id": "jU88G6rWJXVl",
    "outputId": "e52a1f28-9abd-41b1-9da5-fd25af3004c3"
   },
   "execution_count": null,
   "outputs": [
    {
     "output_type": "execute_result",
     "data": {
      "text/plain": [
       "(63182, 4)"
      ]
     },
     "metadata": {},
     "execution_count": 81
    }
   ]
  },
  {
   "cell_type": "code",
   "source": [
    "df[\"unreliable\"].value_counts()"
   ],
   "metadata": {
    "colab": {
     "base_uri": "https://localhost:8080/",
     "height": 178
    },
    "id": "3wgyh-idJZc9",
    "outputId": "4acd1bd0-52e3-407d-9951-9b5d659848bc"
   },
   "execution_count": null,
   "outputs": [
    {
     "output_type": "execute_result",
     "data": {
      "text/plain": [
       "unreliable\n",
       "0    31777\n",
       "1    31405\n",
       "Name: count, dtype: int64"
      ],
      "text/html": [
       "<div>\n",
       "<style scoped>\n",
       "    .dataframe tbody tr th:only-of-type {\n",
       "        vertical-align: middle;\n",
       "    }\n",
       "\n",
       "    .dataframe tbody tr th {\n",
       "        vertical-align: top;\n",
       "    }\n",
       "\n",
       "    .dataframe thead th {\n",
       "        text-align: right;\n",
       "    }\n",
       "</style>\n",
       "<table border=\"1\" class=\"dataframe\">\n",
       "  <thead>\n",
       "    <tr style=\"text-align: right;\">\n",
       "      <th></th>\n",
       "      <th>count</th>\n",
       "    </tr>\n",
       "    <tr>\n",
       "      <th>unreliable</th>\n",
       "      <th></th>\n",
       "    </tr>\n",
       "  </thead>\n",
       "  <tbody>\n",
       "    <tr>\n",
       "      <th>0</th>\n",
       "      <td>31777</td>\n",
       "    </tr>\n",
       "    <tr>\n",
       "      <th>1</th>\n",
       "      <td>31405</td>\n",
       "    </tr>\n",
       "  </tbody>\n",
       "</table>\n",
       "</div><br><label><b>dtype:</b> int64</label>"
      ]
     },
     "metadata": {},
     "execution_count": 82
    }
   ]
  },
  {
   "cell_type": "code",
   "source": [
    "import matplotlib.pyplot as plt"
   ],
   "metadata": {
    "id": "Rki-4ICOKkhW"
   },
   "execution_count": null,
   "outputs": []
  },
  {
   "cell_type": "code",
   "source": [
    "df[\"unreliable\"].value_counts().plot.barh()"
   ],
   "metadata": {
    "colab": {
     "base_uri": "https://localhost:8080/",
     "height": 447
    },
    "id": "JkDFviSqLCoE",
    "outputId": "e0a242e0-5ccf-4c64-d137-e1946cd8b74a"
   },
   "execution_count": null,
   "outputs": [
    {
     "output_type": "execute_result",
     "data": {
      "text/plain": [
       "<Axes: ylabel='unreliable'>"
      ]
     },
     "metadata": {},
     "execution_count": 84
    },
    {
     "output_type": "display_data",
     "data": {
      "text/plain": [
       "<Figure size 640x480 with 1 Axes>"
      ],
      "image/png": "[encoded data removed]"
     },
     "metadata": {}
    }
   ]
  },
  {
   "cell_type": "code",
   "source": [
    "df[\"title_tokens\"] = df[\"title\"].apply(lambda x: len(x.split()) * 1.5)\n",
    "df[\"text_tokens\"] = df[\"text\"].apply(lambda x: len(x.split()) * 1.5)"
   ],
   "metadata": {
    "id": "pFcpgmXzLFF1"
   },
   "execution_count": null,
   "outputs": []
  },
  {
   "cell_type": "code",
   "source": [
    "from sklearn.model_selection import train_test_split"
   ],
   "metadata": {
    "id": "p4ZrLHuINMab"
   },
   "execution_count": null,
   "outputs": []
  },
  {
   "cell_type": "code",
   "source": [
    "df.head()"
   ],
   "metadata": {
    "colab": {
     "base_uri": "https://localhost:8080/",
     "height": 206
    },
    "id": "T5OY05pFUCBg",
    "outputId": "f77d5bb0-3f60-467f-f74a-b6022d44cdd6"
   },
   "execution_count": null,
   "outputs": [
    {
     "output_type": "execute_result",
     "data": {
      "text/plain": [
       "                                               title  \\\n",
       "0  WARNING: A Pivotal Moment For The Stock Market...   \n",
       "1  Trump, top defense officials, discuss North Ko...   \n",
       "2  British civil servants' union calls nationwide...   \n",
       "3   A**hole Of The Day – Michele Bachmann: Muslim...   \n",
       "4  ’Deport Fat People’ Posters Appear At CU Bould...   \n",
       "\n",
       "                                                text  unreliable  \\\n",
       "0  WARNING: A Pivotal Moment For The Stock Market...           1   \n",
       "1  WASHINGTON  - U.S. President Donald Trump met ...           0   \n",
       "2  LONDON  - British civil servants will vote nex...           0   \n",
       "3  Michele Bachmann has been pretty quiet since l...           1   \n",
       "4  Posters calling on Donald Trump to “Deport Fat...           0   \n",
       "\n",
       "                            author  title_tokens  text_tokens  \n",
       "0  Anonymous Coward (UID 72071746)          16.5         64.5  \n",
       "1                          Unknown          15.0        127.5  \n",
       "2                          Unknown          12.0        456.0  \n",
       "3                          Unknown          21.0        949.5  \n",
       "4                      Lucas Nolan          21.0        184.5  "
      ],
      "text/html": [
       "\n",
       "  <div id=\"df-ed17a6a3-7bd7-40a7-8b3e-fa226e947738\" class=\"colab-df-container\">\n",
       "    <div>\n",
       "<style scoped>\n",
       "    .dataframe tbody tr th:only-of-type {\n",
       "        vertical-align: middle;\n",
       "    }\n",
       "\n",
       "    .dataframe tbody tr th {\n",
       "        vertical-align: top;\n",
       "    }\n",
       "\n",
       "    .dataframe thead th {\n",
       "        text-align: right;\n",
       "    }\n",
       "</style>\n",
       "<table border=\"1\" class=\"dataframe\">\n",
       "  <thead>\n",
       "    <tr style=\"text-align: right;\">\n",
       "      <th></th>\n",
       "      <th>title</th>\n",
       "      <th>text</th>\n",
       "      <th>unreliable</th>\n",
       "      <th>author</th>\n",
       "      <th>title_tokens</th>\n",
       "      <th>text_tokens</th>\n",
       "    </tr>\n",
       "  </thead>\n",
       "  <tbody>\n",
       "    <tr>\n",
       "      <th>0</th>\n",
       "      <td>WARNING: A Pivotal Moment For The Stock Market...</td>\n",
       "      <td>WARNING: A Pivotal Moment For The Stock Market...</td>\n",
       "      <td>1</td>\n",
       "      <td>Anonymous Coward (UID 72071746)</td>\n",
       "      <td>16.5</td>\n",
       "      <td>64.5</td>\n",
       "    </tr>\n",
       "    <tr>\n",
       "      <th>1</th>\n",
       "      <td>Trump, top defense officials, discuss North Ko...</td>\n",
       "      <td>WASHINGTON  - U.S. President Donald Trump met ...</td>\n",
       "      <td>0</td>\n",
       "      <td>Unknown</td>\n",
       "      <td>15.0</td>\n",
       "      <td>127.5</td>\n",
       "    </tr>\n",
       "    <tr>\n",
       "      <th>2</th>\n",
       "      <td>British civil servants' union calls nationwide...</td>\n",
       "      <td>LONDON  - British civil servants will vote nex...</td>\n",
       "      <td>0</td>\n",
       "      <td>Unknown</td>\n",
       "      <td>12.0</td>\n",
       "      <td>456.0</td>\n",
       "    </tr>\n",
       "    <tr>\n",
       "      <th>3</th>\n",
       "      <td>A**hole Of The Day – Michele Bachmann: Muslim...</td>\n",
       "      <td>Michele Bachmann has been pretty quiet since l...</td>\n",
       "      <td>1</td>\n",
       "      <td>Unknown</td>\n",
       "      <td>21.0</td>\n",
       "      <td>949.5</td>\n",
       "    </tr>\n",
       "    <tr>\n",
       "      <th>4</th>\n",
       "      <td>’Deport Fat People’ Posters Appear At CU Bould...</td>\n",
       "      <td>Posters calling on Donald Trump to “Deport Fat...</td>\n",
       "      <td>0</td>\n",
       "      <td>Lucas Nolan</td>\n",
       "      <td>21.0</td>\n",
       "      <td>184.5</td>\n",
       "    </tr>\n",
       "  </tbody>\n",
       "</table>\n",
       "</div>\n",
       "    <div class=\"colab-df-buttons\">\n",
       "\n",
       "  <div class=\"colab-df-container\">\n",
       "    <button class=\"colab-df-convert\" onclick=\"convertToInteractive('df-ed17a6a3-7bd7-40a7-8b3e-fa226e947738')\"\n",
       "            title=\"Convert this dataframe to an interactive table.\"\n",
       "            style=\"display:none;\">\n",
       "\n",
       "  <svg xmlns=\"http://www.w3.org/2000/svg\" height=\"24px\" viewBox=\"0 -960 960 960\">\n",
       "    <path d=\"M120-120v-720h720v720H120Zm60-500h600v-160H180v160Zm220 220h160v-160H400v160Zm0 220h160v-160H400v160ZM180-400h160v-160H180v160Zm440 0h160v-160H620v160ZM180-180h160v-160H180v160Zm440 0h160v-160H620v160Z\"/>\n",
       "  </svg>\n",
       "    </button>\n",
       "\n",
       "  <style>\n",
       "    .colab-df-container {\n",
       "      display:flex;\n",
       "      gap: 12px;\n",
       "    }\n",
       "\n",
       "    .colab-df-convert {\n",
       "      background-color: #E8F0FE;\n",
       "      border: none;\n",
       "      border-radius: 50%;\n",
       "      cursor: pointer;\n",
       "      display: none;\n",
       "      fill: #1967D2;\n",
       "      height: 32px;\n",
       "      padding: 0 0 0 0;\n",
       "      width: 32px;\n",
       "    }\n",
       "\n",
       "    .colab-df-convert:hover {\n",
       "      background-color: #E2EBFA;\n",
       "      box-shadow: 0px 1px 2px rgba(60, 64, 67, 0.3), 0px 1px 3px 1px rgba(60, 64, 67, 0.15);\n",
       "      fill: #174EA6;\n",
       "    }\n",
       "\n",
       "    .colab-df-buttons div {\n",
       "      margin-bottom: 4px;\n",
       "    }\n",
       "\n",
       "    [theme=dark] .colab-df-convert {\n",
       "      background-color: #3B4455;\n",
       "      fill: #D2E3FC;\n",
       "    }\n",
       "\n",
       "    [theme=dark] .colab-df-convert:hover {\n",
       "      background-color: #434B5C;\n",
       "      box-shadow: 0px 1px 3px 1px rgba(0, 0, 0, 0.15);\n",
       "      filter: drop-shadow(0px 1px 2px rgba(0, 0, 0, 0.3));\n",
       "      fill: #FFFFFF;\n",
       "    }\n",
       "  </style>\n",
       "\n",
       "    <script>\n",
       "      const buttonEl =\n",
       "        document.querySelector('#df-ed17a6a3-7bd7-40a7-8b3e-fa226e947738 button.colab-df-convert');\n",
       "      buttonEl.style.display =\n",
       "        google.colab.kernel.accessAllowed ? 'block' : 'none';\n",
       "\n",
       "      async function convertToInteractive(key) {\n",
       "        const element = document.querySelector('#df-ed17a6a3-7bd7-40a7-8b3e-fa226e947738');\n",
       "        const dataTable =\n",
       "          await google.colab.kernel.invokeFunction('convertToInteractive',\n",
       "                                                    [key], {});\n",
       "        if (!dataTable) return;\n",
       "\n",
       "        const docLinkHtml = 'Like what you see? Visit the ' +\n",
       "          '<a target=\"_blank\" href=https://colab.research.google.com/notebooks/data_table.ipynb>data table notebook</a>'\n",
       "          + ' to learn more about interactive tables.';\n",
       "        element.innerHTML = '';\n",
       "        dataTable['output_type'] = 'display_data';\n",
       "        await google.colab.output.renderOutput(dataTable, element);\n",
       "        const docLink = document.createElement('div');\n",
       "        docLink.innerHTML = docLinkHtml;\n",
       "        element.appendChild(docLink);\n",
       "      }\n",
       "    </script>\n",
       "  </div>\n",
       "\n",
       "\n",
       "    <div id=\"df-fa3af015-5939-491b-9387-fa9f4bc3a318\">\n",
       "      <button class=\"colab-df-quickchart\" onclick=\"quickchart('df-fa3af015-5939-491b-9387-fa9f4bc3a318')\"\n",
       "                title=\"Suggest charts\"\n",
       "                style=\"display:none;\">\n",
       "\n",
       "<svg xmlns=\"http://www.w3.org/2000/svg\" height=\"24px\"viewBox=\"0 0 24 24\"\n",
       "     width=\"24px\">\n",
       "    <g>\n",
       "        <path d=\"M19 3H5c-1.1 0-2 .9-2 2v14c0 1.1.9 2 2 2h14c1.1 0 2-.9 2-2V5c0-1.1-.9-2-2-2zM9 17H7v-7h2v7zm4 0h-2V7h2v10zm4 0h-2v-4h2v4z\"/>\n",
       "    </g>\n",
       "</svg>\n",
       "      </button>\n",
       "\n",
       "<style>\n",
       "  .colab-df-quickchart {\n",
       "      --bg-color: #E8F0FE;\n",
       "      --fill-color: #1967D2;\n",
       "      --hover-bg-color: #E2EBFA;\n",
       "      --hover-fill-color: #174EA6;\n",
       "      --disabled-fill-color: #AAA;\n",
       "      --disabled-bg-color: #DDD;\n",
       "  }\n",
       "\n",
       "  [theme=dark] .colab-df-quickchart {\n",
       "      --bg-color: #3B4455;\n",
       "      --fill-color: #D2E3FC;\n",
       "      --hover-bg-color: #434B5C;\n",
       "      --hover-fill-color: #FFFFFF;\n",
       "      --disabled-bg-color: #3B4455;\n",
       "      --disabled-fill-color: #666;\n",
       "  }\n",
       "\n",
       "  .colab-df-quickchart {\n",
       "    background-color: var(--bg-color);\n",
       "    border: none;\n",
       "    border-radius: 50%;\n",
       "    cursor: pointer;\n",
       "    display: none;\n",
       "    fill: var(--fill-color);\n",
       "    height: 32px;\n",
       "    padding: 0;\n",
       "    width: 32px;\n",
       "  }\n",
       "\n",
       "  .colab-df-quickchart:hover {\n",
       "    background-color: var(--hover-bg-color);\n",
       "    box-shadow: 0 1px 2px rgba(60, 64, 67, 0.3), 0 1px 3px 1px rgba(60, 64, 67, 0.15);\n",
       "    fill: var(--button-hover-fill-color);\n",
       "  }\n",
       "\n",
       "  .colab-df-quickchart-complete:disabled,\n",
       "  .colab-df-quickchart-complete:disabled:hover {\n",
       "    background-color: var(--disabled-bg-color);\n",
       "    fill: var(--disabled-fill-color);\n",
       "    box-shadow: none;\n",
       "  }\n",
       "\n",
       "  .colab-df-spinner {\n",
       "    border: 2px solid var(--fill-color);\n",
       "    border-color: transparent;\n",
       "    border-bottom-color: var(--fill-color);\n",
       "    animation:\n",
       "      spin 1s steps(1) infinite;\n",
       "  }\n",
       "\n",
       "  @keyframes spin {\n",
       "    0% {\n",
       "      border-color: transparent;\n",
       "      border-bottom-color: var(--fill-color);\n",
       "      border-left-color: var(--fill-color);\n",
       "    }\n",
       "    20% {\n",
       "      border-color: transparent;\n",
       "      border-left-color: var(--fill-color);\n",
       "      border-top-color: var(--fill-color);\n",
       "    }\n",
       "    30% {\n",
       "      border-color: transparent;\n",
       "      border-left-color: var(--fill-color);\n",
       "      border-top-color: var(--fill-color);\n",
       "      border-right-color: var(--fill-color);\n",
       "    }\n",
       "    40% {\n",
       "      border-color: transparent;\n",
       "      border-right-color: var(--fill-color);\n",
       "      border-top-color: var(--fill-color);\n",
       "    }\n",
       "    60% {\n",
       "      border-color: transparent;\n",
       "      border-right-color: var(--fill-color);\n",
       "    }\n",
       "    80% {\n",
       "      border-color: transparent;\n",
       "      border-right-color: var(--fill-color);\n",
       "      border-bottom-color: var(--fill-color);\n",
       "    }\n",
       "    90% {\n",
       "      border-color: transparent;\n",
       "      border-bottom-color: var(--fill-color);\n",
       "    }\n",
       "  }\n",
       "</style>\n",
       "\n",
       "      <script>\n",
       "        async function quickchart(key) {\n",
       "          const quickchartButtonEl =\n",
       "            document.querySelector('#' + key + ' button');\n",
       "          quickchartButtonEl.disabled = true;  // To prevent multiple clicks.\n",
       "          quickchartButtonEl.classList.add('colab-df-spinner');\n",
       "          try {\n",
       "            const charts = await google.colab.kernel.invokeFunction(\n",
       "                'suggestCharts', [key], {});\n",
       "          } catch (error) {\n",
       "            console.error('Error during call to suggestCharts:', error);\n",
       "          }\n",
       "          quickchartButtonEl.classList.remove('colab-df-spinner');\n",
       "          quickchartButtonEl.classList.add('colab-df-quickchart-complete');\n",
       "        }\n",
       "        (() => {\n",
       "          let quickchartButtonEl =\n",
       "            document.querySelector('#df-fa3af015-5939-491b-9387-fa9f4bc3a318 button');\n",
       "          quickchartButtonEl.style.display =\n",
       "            google.colab.kernel.accessAllowed ? 'block' : 'none';\n",
       "        })();\n",
       "      </script>\n",
       "    </div>\n",
       "\n",
       "    </div>\n",
       "  </div>\n"
      ],
      "application/vnd.google.colaboratory.intrinsic+json": {
       "type": "dataframe",
       "variable_name": "df",
       "summary": "{\n  \"name\": \"df\",\n  \"rows\": 63182,\n  \"fields\": [\n    {\n      \"column\": \"title\",\n      \"properties\": {\n        \"dtype\": \"string\",\n        \"num_unique_values\": 56642,\n        \"samples\": [\n          \"The Red Pill Masterpiece That Predates Them All\",\n          \"FOX NEWS\\u2019 JAMES ROSEN: \\u201cSheer Scale\\u201d of Obama Spying Against Americans \\u201cStaggering\\u201d [Video]\",\n          \"MUSLIM ATHLETE Given \\u201cHero\\u2019s Welcome\\u201d ARRESTED For Sexual Abuse Of 12-Yr Old Girl After Senator Schumer Helped Him Get Around U.S. Visa Denial\"\n        ],\n        \"semantic_type\": \"\",\n        \"description\": \"\"\n      }\n    },\n    {\n      \"column\": \"text\",\n      \"properties\": {\n        \"dtype\": \"string\",\n        \"num_unique_values\": 56660,\n        \"samples\": [\n          \"WASHINGTON  \\u2014   Just days after President Trump spoke of a \\u201crunning war\\u2019\\u2019 with the media, his chief White House strategist, Stephen K. Bannon, ratcheted up the attacks, arguing that news organizations had been \\u201chumiliated\\u201d by the election outcome and repeatedly describing the media as \\u201cthe opposition party\\u201d of the current administration. \\u201cThe media should be embarrassed and humiliated and keep its mouth shut and just listen for a while,\\u201d Mr. Bannon said in an interview on Wednesday. \\u201cI want you to quote this,\\u201d Mr. Bannon added. \\u201cThe media here is the opposition party. They don\\u2019t understand this country. They still do not understand why Donald Trump is the president of the United States. \\u201d The scathing assessment  \\u2014   delivered by one of Mr. Trump\\u2019s most trusted and influential advisers, in the first days of his presidency  \\u2014   comes at a moment of high tension between the news media and the administration, with skirmishes over the size of Mr. Trump\\u2019s inaugural crowd and the president\\u2019s false claims that millions of illegal votes by undocumented immigrants swayed the popular vote against him. Mr. Bannon, who rarely grants interviews to journalists outside of Breitbart News, the provocative   website he ran until August, was echoing comments by Mr. Trump last weekend, when the president said he was in \\u201ca running war\\u201d with the media and called journalists \\u201camong the most dishonest people on earth. \\u201d Mr. Bannon\\u2019s remarks added to the growing acrimony between the press and a president who made attacks on the media a rallying point of his election campaign. Among Mr. Trump\\u2019s advisers in the White House, Mr. Bannon is responsible for putting into action the nationalist vision that Mr. Trump channeled during the later months of the campaign, one that stemmed from Mr. Bannon himself. And in many ways Mr. Trump has acted on that vision during his first week in office  \\u2014   from the description of \\u201cAmerican carnage\\u201d he laid out in his inauguration speech to a series of executive actions outlining policies on trade agreements, immigration and the building of a border wall. Mr. Bannon is one of the strongest forces in an administration with competing power centers. A savvy manipulator of the press, and a proud provocateur, he was among the few advisers in Mr. Trump\\u2019s circle who were said to have urged Sean Spicer, the new press secretary, to give a confrontational, emotional statement to a shocked West Wing briefing room on Saturday, when the White House disputed news reports about the size of the inauguration crowd. He shares Mr. Trump\\u2019s view that the news media misunderstood the movement that the president rode into office. Speaking by telephone on Wednesday, Mr. Bannon delivered a broad indictment of the news media as being biased against Mr. Trump and out of touch with the American public. That is an argument familiar to readers of Breitbart and followers of personalities friendly to Mr. Trump, like Sean Hannity of Fox News. \\u201cThe elite media got it dead wrong, 100 percent dead wrong,\\u201d Mr. Bannon said of the election, calling it \\u201ca humiliating defeat that they will never wash away, that will always be there. \\u201d \\u201cThe mainstream media has not fired or terminated anyone associated with following our campaign,\\u201d Mr. Bannon said. \\u201cLook at the Twitter feeds of those people: They were outright activists of the Clinton campaign. \\u201d (He did not name specific reporters or editors.) \\u201cThat\\u2019s why you have no power,\\u201d he added. \\u201cYou were humiliated. \\u201d Mr. Bannon spoke in blunt but calm tones, peppered with profanity, and humorously referred to himself as \\u201cDarth Vader. \\u201d He said, with ironic relish, that Mr. Trump was elected by a surge of support from \\u201cthe   hobbits and deplorables. \\u201d The conversation was initiated by Mr. Bannon to offer praise for Mr. Spicer, who has been criticized this week for making false claims at the White House podium about attendance at Mr. Trump\\u2019s inaugural, for calling reporters dishonest and lecturing them about what stories to write, and for failing to disavow Mr. Trump\\u2019s lie about widespread voter fraud in the election. Asked if he was concerned that Mr. Spicer had lost credibility with the news media, Mr. Bannon chortled. \\u201cAre you kidding me?\\u201d he said. \\u201cWe think that\\u2019s a badge of honor. \\u2018Questioning his integrity\\u2019  \\u2014   are you kidding me? The media has zero integrity, zero intelligence, and no hard work. \\u201d \\u201cYou\\u2019re the opposition party,\\u201d he said. \\u201cNot the Democratic Party. You\\u2019re the opposition party. The media\\u2019s the opposition party. \\u201d Journalists reacted with alarm and defiance to Mr. Bannon\\u2019s comments. \\u201cWhat country are we living in?\\u201d Christiane Amanpour, the CNN correspondent, wrote on Twitter. \\u201cWe are not the opposition,\\u2019\\u2019 Stephen Engelberg, editor in chief of the nonprofit news organization ProPublica, wrote in an email. \\u201cWe are part of an essential function in any democracy. \\u201d He added that ProPublica had no intention of \\u201cshutting up in response to this or any other president\\u2019s demand. \\u201d \\u201cWe are here to tell the truth and we intend to continue doing so, regardless of how badly some might want us to parrot \\u2018alternative facts,\\u2019\\u201d Mr. Engelberg said. Mr. Bannon mostly referred to the \\u201celite\\u201d or \\u201cmainstream\\u201d media, but he cited The New York Times and The Washington Post by name. \\u201cThe paper of record for our beloved republic, The New York Times, should be absolutely ashamed and humiliated,\\u201d Mr. Bannon said. \\u201cThey got it 100 percent wrong. \\u201d He added that he has been a reader of The Times for most of his adult life.\",\n          \"WASHINGTON  \\u2014   Sounding like a frustrated Cassandra, Vice President Joseph R. Biden Jr. lamented last week that Hillary Clinton had not done enough to reach white   voters in the presidential campaign. Even more egregious to Mr. Biden, some fellow Democrats had concluded that   whites were not even worth pursuing. \\u201cI mean these are good people, man!\\u201d Mr. Biden exclaimed in an interview on CNN. \\u201cThese aren\\u2019t racists. These aren\\u2019t sexists. \\u201d With his typically unambiguous assessment, the vice president thrust himself into a heated debate that has shaped the Democrats\\u2019   since Donald J. Trump won the presidency: Should the party continue tailoring its message to the   young and nonwhite constituencies that propelled President Obama, or make a more concerted effort to win over the white voters who have drifted away? For Democrats, the election last month has become a Rorschach test. Some see Mrs. Clinton\\u2019s loss as a result of an unfortunate series of flukes  \\u2014   Russian tampering, a late intervention by the Federal Bureau of Investigation director and a poor allocation of resources  \\u2014   but little more than a speed bump on the road to a demographic majority. Others believe the results reflect a more worrisome trend that could doom the party. It is a sensitive topic, touching on race and class, but the choices that Democrats make in the coming months will shape their   identity and carry major implications in both the 2018 midterm elections and the next presidential race. Few leading Democrats are arguing for a   reconsideration of the party\\u2019s core liberal agenda. After all, history is a game of inches, and Mrs. Clinton won the popular vote by more than 2. 8 million votes, but lost the presidency by 77, 000 votes in Michigan, Pennsylvania and Wisconsin  \\u2014   less than the capacity crowd at Lambeau Field on any given Sunday. \\u201cDemographically, the Electoral College is heading in the right direction\\u201d for Democrats, Dan Pfeiffer, a former adviser to Mr. Obama, said. What Mr. Trump pulled off, he added, \\u201cwould be hard to replicate. \\u201d Even those who believe the party has become too fixated on identity politics do not think it should reverse course on such issues as immigration, criminal justice and legal protections for gay and transgender Americans. Yet as a matter of politics, those in Mr. Biden\\u2019s camp believe the party\\u2019s ethos of inclusion may add up to less than the sum of its parts. In the minds of those Democrats, they will not be a majority party again in Washington or across much of the country without winning back white voters of modest means. \\u201cYou don\\u2019t need those people?\\u201d Tom Vilsack, the agriculture secretary, asked. \\u201cYou\\u2019re going to wait how many decades before this other strategy works?\\u201d Mr. Vilsack, a former Iowa governor, had tried to push Mrs. Clinton, a longtime ally, toward focusing more on rural America, but his pleas fell on deaf ears. He was just as exasperated over what he described as his party\\u2019s   pattern of neglect of many of the voters he spent eight years working with in his cabinet post. \\u201cRural America is 15 percent of America\\u2019s population,\\u201d Mr. Vilsack said. \\u201cIt\\u2019s the same percentage as   it\\u2019s the same percentage as Hispanics. We spend a lot of time thinking about that 15 percent  \\u2014   and we should, God bless them, we should. But not to the exclusion of the other 15 percent. \\u201d In their zeal for pursuing clearly defined constituencies, some Democrats now worry they missed the bigger picture: failing to deliver a message that would cut across all constituencies, and ceding too much territory to Republicans in whiter, more conservative areas that Mr. Trump won by wider margins than other recent Republican nominees. Entering the race for chairman of the Democratic National Committee on Thursday, Labor Secretary Thomas E. Perez summed up this view in blunt terms. \\u201cWe got our ass kicked in a lot of these rural pockets because we weren\\u2019t there in sufficient force,\\u201d Mr. Perez said. Representative Gwen Graham, Democrat of Florida and a likely candidate for governor in 2018, called her party\\u2019s message \\u201ctoo funneled. \\u201d It needed to be more open to pursuing moderate and conservative voters, she said. Ms. Graham, who was elected in a   district in the Florida Panhandle, said she would campaign across every part of the state if she ran for governor. Though she declined to criticize her party\\u2019s presidential nominee directly, such campaigning would be starkly different from the approach Mrs. Clinton took in 2016, when she focused overwhelmingly on the state\\u2019s biggest metropolitan areas. \\u201cI would run a   strategy,\\u201d Ms. Graham said. \\u201cAnd I would reach out to all different kinds of Democrats and Republicans, along the ideological spectrum. \\u201d But while this may make for a good message at the outset of a campaign, it is, to a vocal contingent of Democratic strategists, a dated approach that ignores inexorable political and demographic trendlines. To win in a changing country, these Democrats said, the party must tailor a platform and strategy that explicitly appealed to younger and nonwhite voters on issues like policing, climate change and immigration. Cornell Belcher, a Democratic pollster, said it was folly to continue developing a message for and devoting considerable resources to \\u201ca shrinking, increasingly resistant market. \\u201d Mr. Belcher recalled focus groups in North Carolina this year in which nonwhite voters who had come out for Mr. Obama\\u2019s two elections could not name the party\\u2019s Senate candidate in the state. (It was Deborah Ross she lost.) \\u201cWe\\u2019re spending all of our resources on broadcast television chasing this mythical unicorn white swing voter,\\u201d he said. Mr. Belcher, who has published a new book about race and the Obama presidency, \\u201cA Black Man in the White House,\\u201d said the party should not ignore white voters. But he said Democrats also should not react to this election by refashioning their appeal as if the country were just as white as it was when Bill Clinton and other centrists began the Democratic Leadership Council 30 years ago. \\u201cWhy would we go back to running campaigns as though it\\u2019s the 1980s?\\u201d Mr. Belcher asked. \\u201cBecause it\\u2019s not the 1980s. \\u201d Mr. Pfeiffer, the former Obama adviser, noted that red states like Arizona and Georgia were closer to turning blue this year even as Mrs. Clinton lost, and argued that new arrivals in Florida and North Carolina would make those states tilt Democratic. Yet even Democrats in solidly blue states, who can in theory win elections without a single conservative vote, said the party\\u2019s   message was lacking. Mayor Eric M. Garcetti of Los Angeles said Democrats had not explained to many voters how tolerant social values translated into government action. \\u201cOf course we are for a tolerant, diverse, inclusive, cooperative future,\\u201d he said. \\u201cIt isn\\u2019t enough. \\u201d Mr. Garcetti likened the party\\u2019s message to the gestures of conciliation proposed by civic leaders in Los Angeles after the Rodney King riots in the 1990s  \\u2014   well intentioned but insufficient. \\u201cIf the starting point is: \\u2018Hey, we are a party and we are a country that stands for blacks and Koreans and people of all stripes liking each other,\\u2019 that\\u2019s not an agenda,\\u201d Mr. Garcetti said. \\u201cThese values aren\\u2019t just about social inclusion. They\\u2019re about getting things done. \\u201d\",\n          \"She had her fun and, it appears, she was ready to come home. After a brief flirtation with freedom, Ollie, a    bobcat living at the Smithsonian\\u2019s National Zoo in Washington, was found on Wednesday near the zoo\\u2019s birdhouse, officials said. Though they could not retrace the   bobcat\\u2019s nearly   adventure, officials said she might have left the property but most likely never strayed more than two miles from the zoo. \\u201cWe\\u2019re just    happy,\\u201d Craig Saffoe, the zoo\\u2019s curator of great cats, said at an evening news conference. Ollie\\u2019s disappearance on Monday morning reportedly led some area schools to cancel recess and inspired a slew of jokes, a Twitter parody account and grand metaphors. (She had become \\u201ca symbol of freedom and one of its last hopes in a world gone rotten,\\u201d The Washingtonian proclaimed on Wednesday night.) But for zoo officials, her capture, thanks to a tip from a visitor who spotted her crossing a walkway, offered relief. After receiving the tip, staff members at the birdhouse notified Mr. Saffoe and his colleagues, who set up live traps in the area of the sighting. \\u201cWithin 15 minutes, the birdhouse keepers called us back and told us, \\u2018We have a bobcat in a trap up here,\\u2019\\u201d he said. Ollie was taken to a veterinary hospital, where she was determined to have suffered no harm from the adventure, save a small cut on her front left paw, said Dr. Brandie Smith, the National Zoo\\u2019s associate director for animal care sciences. \\u201cThere\\u2019s no need to treat it,\\u201d Dr. Smith said. \\u201cWe\\u2019re just letting her be kind of calm and safe and secure. \\u201d Ollie will receive a full examination on Thursday, and the zoo plans to investigate how she was able to leave her enclosure, Dr. Smith added. Ollie probably never traveled far, apparently sticking close to Rock Creek, which abuts the zoo, Mr. Saffoe said. Reported sightings of her on a nearby road appeared to be credible, too, he added. \\u201cI think she wanted to go out, have a little bit of fun, see what it was like on the outside,\\u201d he said. Zoo officials said this week that they did not consider Ollie a threat to humans, but that she might pose a threat to cats, dogs and birds. Mr. Saffoe described her on Wednesday as \\u201cstandoffish. \\u201d \\u201cShe\\u2019s not the cat who\\u2019s going to walk right up to you,\\u201d he said, adding that he had suspected she was nearby and watching as the zoo staff set up the trap that ultimately ensnared her. \\u201cShe was just waiting to see what kind of goodies we left for her,\\u201d he said. The last animal to vanish at the National Zoo was a male agouti  \\u2014   a   rodent  \\u2014   named Macadamia, said Pamela   a zoo spokeswoman. He escaped for only a  . The Virginia Zoo in Norfolk has not been as fortunate: It has yet to report any reliable leads in the search for Sunny, a red panda who disappeared early last week.\"\n        ],\n        \"semantic_type\": \"\",\n        \"description\": \"\"\n      }\n    },\n    {\n      \"column\": \"unreliable\",\n      \"properties\": {\n        \"dtype\": \"number\",\n        \"std\": 0,\n        \"min\": 0,\n        \"max\": 1,\n        \"num_unique_values\": 2,\n        \"samples\": [\n          0,\n          1\n        ],\n        \"semantic_type\": \"\",\n        \"description\": \"\"\n      }\n    },\n    {\n      \"column\": \"author\",\n      \"properties\": {\n        \"dtype\": \"category\",\n        \"num_unique_values\": 3839,\n        \"samples\": [\n          \"Ruth La Ferla\",\n          \"Brian X. Chen, Farhad Manjoo and Vindu Goel\"\n        ],\n        \"semantic_type\": \"\",\n        \"description\": \"\"\n      }\n    },\n    {\n      \"column\": \"title_tokens\",\n      \"properties\": {\n        \"dtype\": \"number\",\n        \"std\": 6.129212865823069,\n        \"min\": 1.5,\n        \"max\": 108.0,\n        \"num_unique_values\": 46,\n        \"samples\": [\n          57.0,\n          9.0\n        ],\n        \"semantic_type\": \"\",\n        \"description\": \"\"\n      }\n    },\n    {\n      \"column\": \"text_tokens\",\n      \"properties\": {\n        \"dtype\": \"number\",\n        \"std\": 884.3717464344176,\n        \"min\": 0.0,\n        \"max\": 36351.0,\n        \"num_unique_values\": 2732,\n        \"samples\": [\n          666.0,\n          1638.0\n        ],\n        \"semantic_type\": \"\",\n        \"description\": \"\"\n      }\n    }\n  ]\n}"
      }
     },
     "metadata": {},
     "execution_count": 87
    }
   ]
  },
  {
   "cell_type": "code",
   "source": [
    "train, test = train_test_split(df, test_size=0.3, random_state=42, stratify=df[\"unreliable\"])"
   ],
   "metadata": {
    "id": "kvm8psTGUF61"
   },
   "execution_count": null,
   "outputs": []
  },
  {
   "cell_type": "code",
   "source": [
    "df.shape, train.shape, test.shape"
   ],
   "metadata": {
    "colab": {
     "base_uri": "https://localhost:8080/"
    },
    "id": "_tzFiebyX-Z2",
    "outputId": "bdbb3b7a-3280-4662-ee75-0562c245178f"
   },
   "execution_count": null,
   "outputs": [
    {
     "output_type": "execute_result",
     "data": {
      "text/plain": [
       "((63182, 6), (44227, 6), (18955, 6))"
      ]
     },
     "metadata": {},
     "execution_count": 89
    }
   ]
  },
  {
   "cell_type": "code",
   "source": [
    "test, validation = train_test_split(test, test_size=0.15, random_state=42, stratify=test[\"unreliable\"])"
   ],
   "metadata": {
    "id": "s74CaolnYAb9"
   },
   "execution_count": null,
   "outputs": []
  },
  {
   "cell_type": "code",
   "source": [
    "test.shape, validation.shape"
   ],
   "metadata": {
    "colab": {
     "base_uri": "https://localhost:8080/"
    },
    "id": "7QLMnvrYYMBU",
    "outputId": "92e57606-7e57-448a-e841-acff73157ab8"
   },
   "execution_count": null,
   "outputs": [
    {
     "output_type": "execute_result",
     "data": {
      "text/plain": [
       "((16111, 6), (2844, 6))"
      ]
     },
     "metadata": {},
     "execution_count": 91
    }
   ]
  },
  {
   "cell_type": "code",
   "source": [
    "from datasets import Dataset, DatasetDict"
   ],
   "metadata": {
    "id": "gVArQoa0YS_9"
   },
   "execution_count": null,
   "outputs": []
  },
  {
   "cell_type": "code",
   "source": [
    "dataset = DatasetDict({\n",
    "    \"train\": Dataset.from_pandas(train, preserve_index=False),\n",
    "    \"test\": Dataset.from_pandas(test, preserve_index=False),\n",
    "    \"validation\": Dataset.from_pandas(validation, preserve_index=False)\n",
    "})"
   ],
   "metadata": {
    "id": "zFmZwAAEYX3m"
   },
   "execution_count": null,
   "outputs": []
  },
  {
   "cell_type": "code",
   "source": [
    "dataset"
   ],
   "metadata": {
    "colab": {
     "base_uri": "https://localhost:8080/"
    },
    "id": "6DSI_br6YloU",
    "outputId": "7492752f-cc78-4bfe-a70e-f784590f2241"
   },
   "execution_count": null,
   "outputs": [
    {
     "output_type": "execute_result",
     "data": {
      "text/plain": [
       "DatasetDict({\n",
       "    train: Dataset({\n",
       "        features: ['title', 'text', 'unreliable', 'author', 'title_tokens', 'text_tokens'],\n",
       "        num_rows: 44227\n",
       "    })\n",
       "    test: Dataset({\n",
       "        features: ['title', 'text', 'unreliable', 'author', 'title_tokens', 'text_tokens'],\n",
       "        num_rows: 16111\n",
       "    })\n",
       "    validation: Dataset({\n",
       "        features: ['title', 'text', 'unreliable', 'author', 'title_tokens', 'text_tokens'],\n",
       "        num_rows: 2844\n",
       "    })\n",
       "})"
      ]
     },
     "metadata": {},
     "execution_count": 94
    }
   ]
  },
  {
   "cell_type": "code",
   "source": [
    "from transformers import AutoTokenizer"
   ],
   "metadata": {
    "id": "x9vMajz0ZEzV"
   },
   "execution_count": null,
   "outputs": []
  },
  {
   "cell_type": "code",
   "source": [
    "distilbert_model = AutoTokenizer.from_pretrained(\"distilbert-base-uncased\")"
   ],
   "metadata": {
    "id": "AMrnYRKBqU3o"
   },
   "execution_count": null,
   "outputs": []
  },
  {
   "cell_type": "code",
   "source": [
    "mobilebert = AutoTokenizer.from_pretrained(\"google/mobilebert-uncased\")\n",
    "tinybert = AutoTokenizer.from_pretrained(\"huawei-noah/TinyBERT_General_4L_312D\")"
   ],
   "metadata": {
    "id": "5GR166U9qU0Z"
   },
   "execution_count": null,
   "outputs": []
  },
  {
   "cell_type": "code",
   "source": [
    "text = \"How is the weather today?\""
   ],
   "metadata": {
    "id": "tzKNPx7FqUxR"
   },
   "execution_count": null,
   "outputs": []
  },
  {
   "cell_type": "code",
   "source": [
    "mobilebert.tokenize(text), tinybert.tokenize(text), distilbert_model.tokenize(text)"
   ],
   "metadata": {
    "colab": {
     "base_uri": "https://localhost:8080/"
    },
    "id": "glqJ8ZYGqUuG",
    "outputId": "ca02fc49-2d89-4229-da9c-477ed7e727e8"
   },
   "execution_count": null,
   "outputs": [
    {
     "output_type": "execute_result",
     "data": {
      "text/plain": [
       "(['how', 'is', 'the', 'weather', 'today', '?'],\n",
       " ['how', 'is', 'the', 'weather', 'today', '?'],\n",
       " ['how', 'is', 'the', 'weather', 'today', '?'])"
      ]
     },
     "metadata": {},
     "execution_count": 99
    }
   ]
  },
  {
   "cell_type": "code",
   "source": [
    "distilbert_model, mobilebert, tinybert"
   ],
   "metadata": {
    "colab": {
     "base_uri": "https://localhost:8080/"
    },
    "id": "922GAv6GqUsW",
    "outputId": "9e84ab52-4fd0-4e74-a7b7-ed36d70ca281"
   },
   "execution_count": null,
   "outputs": [
    {
     "output_type": "execute_result",
     "data": {
      "text/plain": [
       "(DistilBertTokenizerFast(name_or_path='distilbert-base-uncased', vocab_size=30522, model_max_length=512, is_fast=True, padding_side='right', truncation_side='right', special_tokens={'unk_token': '[UNK]', 'sep_token': '[SEP]', 'pad_token': '[PAD]', 'cls_token': '[CLS]', 'mask_token': '[MASK]'}, clean_up_tokenization_spaces=False, added_tokens_decoder={\n",
       " \t0: AddedToken(\"[PAD]\", rstrip=False, lstrip=False, single_word=False, normalized=False, special=True),\n",
       " \t100: AddedToken(\"[UNK]\", rstrip=False, lstrip=False, single_word=False, normalized=False, special=True),\n",
       " \t101: AddedToken(\"[CLS]\", rstrip=False, lstrip=False, single_word=False, normalized=False, special=True),\n",
       " \t102: AddedToken(\"[SEP]\", rstrip=False, lstrip=False, single_word=False, normalized=False, special=True),\n",
       " \t103: AddedToken(\"[MASK]\", rstrip=False, lstrip=False, single_word=False, normalized=False, special=True),\n",
       " }\n",
       " ),\n",
       " MobileBertTokenizerFast(name_or_path='google/mobilebert-uncased', vocab_size=30522, model_max_length=1000000000000000019884624838656, is_fast=True, padding_side='right', truncation_side='right', special_tokens={'unk_token': '[UNK]', 'sep_token': '[SEP]', 'pad_token': '[PAD]', 'cls_token': '[CLS]', 'mask_token': '[MASK]'}, clean_up_tokenization_spaces=False, added_tokens_decoder={\n",
       " \t0: AddedToken(\"[PAD]\", rstrip=False, lstrip=False, single_word=False, normalized=False, special=True),\n",
       " \t100: AddedToken(\"[UNK]\", rstrip=False, lstrip=False, single_word=False, normalized=False, special=True),\n",
       " \t101: AddedToken(\"[CLS]\", rstrip=False, lstrip=False, single_word=False, normalized=False, special=True),\n",
       " \t102: AddedToken(\"[SEP]\", rstrip=False, lstrip=False, single_word=False, normalized=False, special=True),\n",
       " \t103: AddedToken(\"[MASK]\", rstrip=False, lstrip=False, single_word=False, normalized=False, special=True),\n",
       " }\n",
       " ),\n",
       " BertTokenizerFast(name_or_path='huawei-noah/TinyBERT_General_4L_312D', vocab_size=30522, model_max_length=1000000000000000019884624838656, is_fast=True, padding_side='right', truncation_side='right', special_tokens={'unk_token': '[UNK]', 'sep_token': '[SEP]', 'pad_token': '[PAD]', 'cls_token': '[CLS]', 'mask_token': '[MASK]'}, clean_up_tokenization_spaces=True, added_tokens_decoder={\n",
       " \t0: AddedToken(\"[PAD]\", rstrip=False, lstrip=False, single_word=False, normalized=False, special=True),\n",
       " \t100: AddedToken(\"[UNK]\", rstrip=False, lstrip=False, single_word=False, normalized=False, special=True),\n",
       " \t101: AddedToken(\"[CLS]\", rstrip=False, lstrip=False, single_word=False, normalized=False, special=True),\n",
       " \t102: AddedToken(\"[SEP]\", rstrip=False, lstrip=False, single_word=False, normalized=False, special=True),\n",
       " \t103: AddedToken(\"[MASK]\", rstrip=False, lstrip=False, single_word=False, normalized=False, special=True),\n",
       " }\n",
       " ))"
      ]
     },
     "metadata": {},
     "execution_count": 100
    }
   ]
  },
  {
   "cell_type": "code",
   "source": [
    "distilbert_model(text), mobilebert(text), tinybert(text)"
   ],
   "metadata": {
    "colab": {
     "base_uri": "https://localhost:8080/"
    },
    "id": "VscGbQ_wr5Po",
    "outputId": "29d66d23-77fd-416a-82aa-90e247bc7627"
   },
   "execution_count": null,
   "outputs": [
    {
     "output_type": "execute_result",
     "data": {
      "text/plain": [
       "({'input_ids': [101, 2129, 2003, 1996, 4633, 2651, 1029, 102], 'attention_mask': [1, 1, 1, 1, 1, 1, 1, 1]},\n",
       " {'input_ids': [101, 2129, 2003, 1996, 4633, 2651, 1029, 102], 'token_type_ids': [0, 0, 0, 0, 0, 0, 0, 0], 'attention_mask': [1, 1, 1, 1, 1, 1, 1, 1]},\n",
       " {'input_ids': [101, 2129, 2003, 1996, 4633, 2651, 1029, 102], 'token_type_ids': [0, 0, 0, 0, 0, 0, 0, 0], 'attention_mask': [1, 1, 1, 1, 1, 1, 1, 1]})"
      ]
     },
     "metadata": {},
     "execution_count": 101
    }
   ]
  },
  {
   "cell_type": "code",
   "source": [
    "df.head()"
   ],
   "metadata": {
    "colab": {
     "base_uri": "https://localhost:8080/",
     "height": 206
    },
    "id": "9p0LYQs2qUpS",
    "outputId": "8bcac088-c0e9-46e8-8def-605b733458a0"
   },
   "execution_count": null,
   "outputs": [
    {
     "output_type": "execute_result",
     "data": {
      "text/plain": [
       "                                               title  \\\n",
       "0  WARNING: A Pivotal Moment For The Stock Market...   \n",
       "1  Trump, top defense officials, discuss North Ko...   \n",
       "2  British civil servants' union calls nationwide...   \n",
       "3   A**hole Of The Day – Michele Bachmann: Muslim...   \n",
       "4  ’Deport Fat People’ Posters Appear At CU Bould...   \n",
       "\n",
       "                                                text  unreliable  \\\n",
       "0  WARNING: A Pivotal Moment For The Stock Market...           1   \n",
       "1  WASHINGTON  - U.S. President Donald Trump met ...           0   \n",
       "2  LONDON  - British civil servants will vote nex...           0   \n",
       "3  Michele Bachmann has been pretty quiet since l...           1   \n",
       "4  Posters calling on Donald Trump to “Deport Fat...           0   \n",
       "\n",
       "                            author  title_tokens  text_tokens  \n",
       "0  Anonymous Coward (UID 72071746)          16.5         64.5  \n",
       "1                          Unknown          15.0        127.5  \n",
       "2                          Unknown          12.0        456.0  \n",
       "3                          Unknown          21.0        949.5  \n",
       "4                      Lucas Nolan          21.0        184.5  "
      ],
      "text/html": [
       "\n",
       "  <div id=\"df-3c0a61cd-6a75-4516-8f8c-a9fa41d51acc\" class=\"colab-df-container\">\n",
       "    <div>\n",
       "<style scoped>\n",
       "    .dataframe tbody tr th:only-of-type {\n",
       "        vertical-align: middle;\n",
       "    }\n",
       "\n",
       "    .dataframe tbody tr th {\n",
       "        vertical-align: top;\n",
       "    }\n",
       "\n",
       "    .dataframe thead th {\n",
       "        text-align: right;\n",
       "    }\n",
       "</style>\n",
       "<table border=\"1\" class=\"dataframe\">\n",
       "  <thead>\n",
       "    <tr style=\"text-align: right;\">\n",
       "      <th></th>\n",
       "      <th>title</th>\n",
       "      <th>text</th>\n",
       "      <th>unreliable</th>\n",
       "      <th>author</th>\n",
       "      <th>title_tokens</th>\n",
       "      <th>text_tokens</th>\n",
       "    </tr>\n",
       "  </thead>\n",
       "  <tbody>\n",
       "    <tr>\n",
       "      <th>0</th>\n",
       "      <td>WARNING: A Pivotal Moment For The Stock Market...</td>\n",
       "      <td>WARNING: A Pivotal Moment For The Stock Market...</td>\n",
       "      <td>1</td>\n",
       "      <td>Anonymous Coward (UID 72071746)</td>\n",
       "      <td>16.5</td>\n",
       "      <td>64.5</td>\n",
       "    </tr>\n",
       "    <tr>\n",
       "      <th>1</th>\n",
       "      <td>Trump, top defense officials, discuss North Ko...</td>\n",
       "      <td>WASHINGTON  - U.S. President Donald Trump met ...</td>\n",
       "      <td>0</td>\n",
       "      <td>Unknown</td>\n",
       "      <td>15.0</td>\n",
       "      <td>127.5</td>\n",
       "    </tr>\n",
       "    <tr>\n",
       "      <th>2</th>\n",
       "      <td>British civil servants' union calls nationwide...</td>\n",
       "      <td>LONDON  - British civil servants will vote nex...</td>\n",
       "      <td>0</td>\n",
       "      <td>Unknown</td>\n",
       "      <td>12.0</td>\n",
       "      <td>456.0</td>\n",
       "    </tr>\n",
       "    <tr>\n",
       "      <th>3</th>\n",
       "      <td>A**hole Of The Day – Michele Bachmann: Muslim...</td>\n",
       "      <td>Michele Bachmann has been pretty quiet since l...</td>\n",
       "      <td>1</td>\n",
       "      <td>Unknown</td>\n",
       "      <td>21.0</td>\n",
       "      <td>949.5</td>\n",
       "    </tr>\n",
       "    <tr>\n",
       "      <th>4</th>\n",
       "      <td>’Deport Fat People’ Posters Appear At CU Bould...</td>\n",
       "      <td>Posters calling on Donald Trump to “Deport Fat...</td>\n",
       "      <td>0</td>\n",
       "      <td>Lucas Nolan</td>\n",
       "      <td>21.0</td>\n",
       "      <td>184.5</td>\n",
       "    </tr>\n",
       "  </tbody>\n",
       "</table>\n",
       "</div>\n",
       "    <div class=\"colab-df-buttons\">\n",
       "\n",
       "  <div class=\"colab-df-container\">\n",
       "    <button class=\"colab-df-convert\" onclick=\"convertToInteractive('df-3c0a61cd-6a75-4516-8f8c-a9fa41d51acc')\"\n",
       "            title=\"Convert this dataframe to an interactive table.\"\n",
       "            style=\"display:none;\">\n",
       "\n",
       "  <svg xmlns=\"http://www.w3.org/2000/svg\" height=\"24px\" viewBox=\"0 -960 960 960\">\n",
       "    <path d=\"M120-120v-720h720v720H120Zm60-500h600v-160H180v160Zm220 220h160v-160H400v160Zm0 220h160v-160H400v160ZM180-400h160v-160H180v160Zm440 0h160v-160H620v160ZM180-180h160v-160H180v160Zm440 0h160v-160H620v160Z\"/>\n",
       "  </svg>\n",
       "    </button>\n",
       "\n",
       "  <style>\n",
       "    .colab-df-container {\n",
       "      display:flex;\n",
       "      gap: 12px;\n",
       "    }\n",
       "\n",
       "    .colab-df-convert {\n",
       "      background-color: #E8F0FE;\n",
       "      border: none;\n",
       "      border-radius: 50%;\n",
       "      cursor: pointer;\n",
       "      display: none;\n",
       "      fill: #1967D2;\n",
       "      height: 32px;\n",
       "      padding: 0 0 0 0;\n",
       "      width: 32px;\n",
       "    }\n",
       "\n",
       "    .colab-df-convert:hover {\n",
       "      background-color: #E2EBFA;\n",
       "      box-shadow: 0px 1px 2px rgba(60, 64, 67, 0.3), 0px 1px 3px 1px rgba(60, 64, 67, 0.15);\n",
       "      fill: #174EA6;\n",
       "    }\n",
       "\n",
       "    .colab-df-buttons div {\n",
       "      margin-bottom: 4px;\n",
       "    }\n",
       "\n",
       "    [theme=dark] .colab-df-convert {\n",
       "      background-color: #3B4455;\n",
       "      fill: #D2E3FC;\n",
       "    }\n",
       "\n",
       "    [theme=dark] .colab-df-convert:hover {\n",
       "      background-color: #434B5C;\n",
       "      box-shadow: 0px 1px 3px 1px rgba(0, 0, 0, 0.15);\n",
       "      filter: drop-shadow(0px 1px 2px rgba(0, 0, 0, 0.3));\n",
       "      fill: #FFFFFF;\n",
       "    }\n",
       "  </style>\n",
       "\n",
       "    <script>\n",
       "      const buttonEl =\n",
       "        document.querySelector('#df-3c0a61cd-6a75-4516-8f8c-a9fa41d51acc button.colab-df-convert');\n",
       "      buttonEl.style.display =\n",
       "        google.colab.kernel.accessAllowed ? 'block' : 'none';\n",
       "\n",
       "      async function convertToInteractive(key) {\n",
       "        const element = document.querySelector('#df-3c0a61cd-6a75-4516-8f8c-a9fa41d51acc');\n",
       "        const dataTable =\n",
       "          await google.colab.kernel.invokeFunction('convertToInteractive',\n",
       "                                                    [key], {});\n",
       "        if (!dataTable) return;\n",
       "\n",
       "        const docLinkHtml = 'Like what you see? Visit the ' +\n",
       "          '<a target=\"_blank\" href=https://colab.research.google.com/notebooks/data_table.ipynb>data table notebook</a>'\n",
       "          + ' to learn more about interactive tables.';\n",
       "        element.innerHTML = '';\n",
       "        dataTable['output_type'] = 'display_data';\n",
       "        await google.colab.output.renderOutput(dataTable, element);\n",
       "        const docLink = document.createElement('div');\n",
       "        docLink.innerHTML = docLinkHtml;\n",
       "        element.appendChild(docLink);\n",
       "      }\n",
       "    </script>\n",
       "  </div>\n",
       "\n",
       "\n",
       "    <div id=\"df-6e0149df-9241-4ff1-b3d5-fc722b9e0e7d\">\n",
       "      <button class=\"colab-df-quickchart\" onclick=\"quickchart('df-6e0149df-9241-4ff1-b3d5-fc722b9e0e7d')\"\n",
       "                title=\"Suggest charts\"\n",
       "                style=\"display:none;\">\n",
       "\n",
       "<svg xmlns=\"http://www.w3.org/2000/svg\" height=\"24px\"viewBox=\"0 0 24 24\"\n",
       "     width=\"24px\">\n",
       "    <g>\n",
       "        <path d=\"M19 3H5c-1.1 0-2 .9-2 2v14c0 1.1.9 2 2 2h14c1.1 0 2-.9 2-2V5c0-1.1-.9-2-2-2zM9 17H7v-7h2v7zm4 0h-2V7h2v10zm4 0h-2v-4h2v4z\"/>\n",
       "    </g>\n",
       "</svg>\n",
       "      </button>\n",
       "\n",
       "<style>\n",
       "  .colab-df-quickchart {\n",
       "      --bg-color: #E8F0FE;\n",
       "      --fill-color: #1967D2;\n",
       "      --hover-bg-color: #E2EBFA;\n",
       "      --hover-fill-color: #174EA6;\n",
       "      --disabled-fill-color: #AAA;\n",
       "      --disabled-bg-color: #DDD;\n",
       "  }\n",
       "\n",
       "  [theme=dark] .colab-df-quickchart {\n",
       "      --bg-color: #3B4455;\n",
       "      --fill-color: #D2E3FC;\n",
       "      --hover-bg-color: #434B5C;\n",
       "      --hover-fill-color: #FFFFFF;\n",
       "      --disabled-bg-color: #3B4455;\n",
       "      --disabled-fill-color: #666;\n",
       "  }\n",
       "\n",
       "  .colab-df-quickchart {\n",
       "    background-color: var(--bg-color);\n",
       "    border: none;\n",
       "    border-radius: 50%;\n",
       "    cursor: pointer;\n",
       "    display: none;\n",
       "    fill: var(--fill-color);\n",
       "    height: 32px;\n",
       "    padding: 0;\n",
       "    width: 32px;\n",
       "  }\n",
       "\n",
       "  .colab-df-quickchart:hover {\n",
       "    background-color: var(--hover-bg-color);\n",
       "    box-shadow: 0 1px 2px rgba(60, 64, 67, 0.3), 0 1px 3px 1px rgba(60, 64, 67, 0.15);\n",
       "    fill: var(--button-hover-fill-color);\n",
       "  }\n",
       "\n",
       "  .colab-df-quickchart-complete:disabled,\n",
       "  .colab-df-quickchart-complete:disabled:hover {\n",
       "    background-color: var(--disabled-bg-color);\n",
       "    fill: var(--disabled-fill-color);\n",
       "    box-shadow: none;\n",
       "  }\n",
       "\n",
       "  .colab-df-spinner {\n",
       "    border: 2px solid var(--fill-color);\n",
       "    border-color: transparent;\n",
       "    border-bottom-color: var(--fill-color);\n",
       "    animation:\n",
       "      spin 1s steps(1) infinite;\n",
       "  }\n",
       "\n",
       "  @keyframes spin {\n",
       "    0% {\n",
       "      border-color: transparent;\n",
       "      border-bottom-color: var(--fill-color);\n",
       "      border-left-color: var(--fill-color);\n",
       "    }\n",
       "    20% {\n",
       "      border-color: transparent;\n",
       "      border-left-color: var(--fill-color);\n",
       "      border-top-color: var(--fill-color);\n",
       "    }\n",
       "    30% {\n",
       "      border-color: transparent;\n",
       "      border-left-color: var(--fill-color);\n",
       "      border-top-color: var(--fill-color);\n",
       "      border-right-color: var(--fill-color);\n",
       "    }\n",
       "    40% {\n",
       "      border-color: transparent;\n",
       "      border-right-color: var(--fill-color);\n",
       "      border-top-color: var(--fill-color);\n",
       "    }\n",
       "    60% {\n",
       "      border-color: transparent;\n",
       "      border-right-color: var(--fill-color);\n",
       "    }\n",
       "    80% {\n",
       "      border-color: transparent;\n",
       "      border-right-color: var(--fill-color);\n",
       "      border-bottom-color: var(--fill-color);\n",
       "    }\n",
       "    90% {\n",
       "      border-color: transparent;\n",
       "      border-bottom-color: var(--fill-color);\n",
       "    }\n",
       "  }\n",
       "</style>\n",
       "\n",
       "      <script>\n",
       "        async function quickchart(key) {\n",
       "          const quickchartButtonEl =\n",
       "            document.querySelector('#' + key + ' button');\n",
       "          quickchartButtonEl.disabled = true;  // To prevent multiple clicks.\n",
       "          quickchartButtonEl.classList.add('colab-df-spinner');\n",
       "          try {\n",
       "            const charts = await google.colab.kernel.invokeFunction(\n",
       "                'suggestCharts', [key], {});\n",
       "          } catch (error) {\n",
       "            console.error('Error during call to suggestCharts:', error);\n",
       "          }\n",
       "          quickchartButtonEl.classList.remove('colab-df-spinner');\n",
       "          quickchartButtonEl.classList.add('colab-df-quickchart-complete');\n",
       "        }\n",
       "        (() => {\n",
       "          let quickchartButtonEl =\n",
       "            document.querySelector('#df-6e0149df-9241-4ff1-b3d5-fc722b9e0e7d button');\n",
       "          quickchartButtonEl.style.display =\n",
       "            google.colab.kernel.accessAllowed ? 'block' : 'none';\n",
       "        })();\n",
       "      </script>\n",
       "    </div>\n",
       "\n",
       "    </div>\n",
       "  </div>\n"
      ],
      "application/vnd.google.colaboratory.intrinsic+json": {
       "type": "dataframe",
       "variable_name": "df",
       "summary": "{\n  \"name\": \"df\",\n  \"rows\": 63182,\n  \"fields\": [\n    {\n      \"column\": \"title\",\n      \"properties\": {\n        \"dtype\": \"string\",\n        \"num_unique_values\": 56642,\n        \"samples\": [\n          \"The Red Pill Masterpiece That Predates Them All\",\n          \"FOX NEWS\\u2019 JAMES ROSEN: \\u201cSheer Scale\\u201d of Obama Spying Against Americans \\u201cStaggering\\u201d [Video]\",\n          \"MUSLIM ATHLETE Given \\u201cHero\\u2019s Welcome\\u201d ARRESTED For Sexual Abuse Of 12-Yr Old Girl After Senator Schumer Helped Him Get Around U.S. Visa Denial\"\n        ],\n        \"semantic_type\": \"\",\n        \"description\": \"\"\n      }\n    },\n    {\n      \"column\": \"text\",\n      \"properties\": {\n        \"dtype\": \"string\",\n        \"num_unique_values\": 56660,\n        \"samples\": [\n          \"WASHINGTON  \\u2014   Just days after President Trump spoke of a \\u201crunning war\\u2019\\u2019 with the media, his chief White House strategist, Stephen K. Bannon, ratcheted up the attacks, arguing that news organizations had been \\u201chumiliated\\u201d by the election outcome and repeatedly describing the media as \\u201cthe opposition party\\u201d of the current administration. \\u201cThe media should be embarrassed and humiliated and keep its mouth shut and just listen for a while,\\u201d Mr. Bannon said in an interview on Wednesday. \\u201cI want you to quote this,\\u201d Mr. Bannon added. \\u201cThe media here is the opposition party. They don\\u2019t understand this country. They still do not understand why Donald Trump is the president of the United States. \\u201d The scathing assessment  \\u2014   delivered by one of Mr. Trump\\u2019s most trusted and influential advisers, in the first days of his presidency  \\u2014   comes at a moment of high tension between the news media and the administration, with skirmishes over the size of Mr. Trump\\u2019s inaugural crowd and the president\\u2019s false claims that millions of illegal votes by undocumented immigrants swayed the popular vote against him. Mr. Bannon, who rarely grants interviews to journalists outside of Breitbart News, the provocative   website he ran until August, was echoing comments by Mr. Trump last weekend, when the president said he was in \\u201ca running war\\u201d with the media and called journalists \\u201camong the most dishonest people on earth. \\u201d Mr. Bannon\\u2019s remarks added to the growing acrimony between the press and a president who made attacks on the media a rallying point of his election campaign. Among Mr. Trump\\u2019s advisers in the White House, Mr. Bannon is responsible for putting into action the nationalist vision that Mr. Trump channeled during the later months of the campaign, one that stemmed from Mr. Bannon himself. And in many ways Mr. Trump has acted on that vision during his first week in office  \\u2014   from the description of \\u201cAmerican carnage\\u201d he laid out in his inauguration speech to a series of executive actions outlining policies on trade agreements, immigration and the building of a border wall. Mr. Bannon is one of the strongest forces in an administration with competing power centers. A savvy manipulator of the press, and a proud provocateur, he was among the few advisers in Mr. Trump\\u2019s circle who were said to have urged Sean Spicer, the new press secretary, to give a confrontational, emotional statement to a shocked West Wing briefing room on Saturday, when the White House disputed news reports about the size of the inauguration crowd. He shares Mr. Trump\\u2019s view that the news media misunderstood the movement that the president rode into office. Speaking by telephone on Wednesday, Mr. Bannon delivered a broad indictment of the news media as being biased against Mr. Trump and out of touch with the American public. That is an argument familiar to readers of Breitbart and followers of personalities friendly to Mr. Trump, like Sean Hannity of Fox News. \\u201cThe elite media got it dead wrong, 100 percent dead wrong,\\u201d Mr. Bannon said of the election, calling it \\u201ca humiliating defeat that they will never wash away, that will always be there. \\u201d \\u201cThe mainstream media has not fired or terminated anyone associated with following our campaign,\\u201d Mr. Bannon said. \\u201cLook at the Twitter feeds of those people: They were outright activists of the Clinton campaign. \\u201d (He did not name specific reporters or editors.) \\u201cThat\\u2019s why you have no power,\\u201d he added. \\u201cYou were humiliated. \\u201d Mr. Bannon spoke in blunt but calm tones, peppered with profanity, and humorously referred to himself as \\u201cDarth Vader. \\u201d He said, with ironic relish, that Mr. Trump was elected by a surge of support from \\u201cthe   hobbits and deplorables. \\u201d The conversation was initiated by Mr. Bannon to offer praise for Mr. Spicer, who has been criticized this week for making false claims at the White House podium about attendance at Mr. Trump\\u2019s inaugural, for calling reporters dishonest and lecturing them about what stories to write, and for failing to disavow Mr. Trump\\u2019s lie about widespread voter fraud in the election. Asked if he was concerned that Mr. Spicer had lost credibility with the news media, Mr. Bannon chortled. \\u201cAre you kidding me?\\u201d he said. \\u201cWe think that\\u2019s a badge of honor. \\u2018Questioning his integrity\\u2019  \\u2014   are you kidding me? The media has zero integrity, zero intelligence, and no hard work. \\u201d \\u201cYou\\u2019re the opposition party,\\u201d he said. \\u201cNot the Democratic Party. You\\u2019re the opposition party. The media\\u2019s the opposition party. \\u201d Journalists reacted with alarm and defiance to Mr. Bannon\\u2019s comments. \\u201cWhat country are we living in?\\u201d Christiane Amanpour, the CNN correspondent, wrote on Twitter. \\u201cWe are not the opposition,\\u2019\\u2019 Stephen Engelberg, editor in chief of the nonprofit news organization ProPublica, wrote in an email. \\u201cWe are part of an essential function in any democracy. \\u201d He added that ProPublica had no intention of \\u201cshutting up in response to this or any other president\\u2019s demand. \\u201d \\u201cWe are here to tell the truth and we intend to continue doing so, regardless of how badly some might want us to parrot \\u2018alternative facts,\\u2019\\u201d Mr. Engelberg said. Mr. Bannon mostly referred to the \\u201celite\\u201d or \\u201cmainstream\\u201d media, but he cited The New York Times and The Washington Post by name. \\u201cThe paper of record for our beloved republic, The New York Times, should be absolutely ashamed and humiliated,\\u201d Mr. Bannon said. \\u201cThey got it 100 percent wrong. \\u201d He added that he has been a reader of The Times for most of his adult life.\",\n          \"WASHINGTON  \\u2014   Sounding like a frustrated Cassandra, Vice President Joseph R. Biden Jr. lamented last week that Hillary Clinton had not done enough to reach white   voters in the presidential campaign. Even more egregious to Mr. Biden, some fellow Democrats had concluded that   whites were not even worth pursuing. \\u201cI mean these are good people, man!\\u201d Mr. Biden exclaimed in an interview on CNN. \\u201cThese aren\\u2019t racists. These aren\\u2019t sexists. \\u201d With his typically unambiguous assessment, the vice president thrust himself into a heated debate that has shaped the Democrats\\u2019   since Donald J. Trump won the presidency: Should the party continue tailoring its message to the   young and nonwhite constituencies that propelled President Obama, or make a more concerted effort to win over the white voters who have drifted away? For Democrats, the election last month has become a Rorschach test. Some see Mrs. Clinton\\u2019s loss as a result of an unfortunate series of flukes  \\u2014   Russian tampering, a late intervention by the Federal Bureau of Investigation director and a poor allocation of resources  \\u2014   but little more than a speed bump on the road to a demographic majority. Others believe the results reflect a more worrisome trend that could doom the party. It is a sensitive topic, touching on race and class, but the choices that Democrats make in the coming months will shape their   identity and carry major implications in both the 2018 midterm elections and the next presidential race. Few leading Democrats are arguing for a   reconsideration of the party\\u2019s core liberal agenda. After all, history is a game of inches, and Mrs. Clinton won the popular vote by more than 2. 8 million votes, but lost the presidency by 77, 000 votes in Michigan, Pennsylvania and Wisconsin  \\u2014   less than the capacity crowd at Lambeau Field on any given Sunday. \\u201cDemographically, the Electoral College is heading in the right direction\\u201d for Democrats, Dan Pfeiffer, a former adviser to Mr. Obama, said. What Mr. Trump pulled off, he added, \\u201cwould be hard to replicate. \\u201d Even those who believe the party has become too fixated on identity politics do not think it should reverse course on such issues as immigration, criminal justice and legal protections for gay and transgender Americans. Yet as a matter of politics, those in Mr. Biden\\u2019s camp believe the party\\u2019s ethos of inclusion may add up to less than the sum of its parts. In the minds of those Democrats, they will not be a majority party again in Washington or across much of the country without winning back white voters of modest means. \\u201cYou don\\u2019t need those people?\\u201d Tom Vilsack, the agriculture secretary, asked. \\u201cYou\\u2019re going to wait how many decades before this other strategy works?\\u201d Mr. Vilsack, a former Iowa governor, had tried to push Mrs. Clinton, a longtime ally, toward focusing more on rural America, but his pleas fell on deaf ears. He was just as exasperated over what he described as his party\\u2019s   pattern of neglect of many of the voters he spent eight years working with in his cabinet post. \\u201cRural America is 15 percent of America\\u2019s population,\\u201d Mr. Vilsack said. \\u201cIt\\u2019s the same percentage as   it\\u2019s the same percentage as Hispanics. We spend a lot of time thinking about that 15 percent  \\u2014   and we should, God bless them, we should. But not to the exclusion of the other 15 percent. \\u201d In their zeal for pursuing clearly defined constituencies, some Democrats now worry they missed the bigger picture: failing to deliver a message that would cut across all constituencies, and ceding too much territory to Republicans in whiter, more conservative areas that Mr. Trump won by wider margins than other recent Republican nominees. Entering the race for chairman of the Democratic National Committee on Thursday, Labor Secretary Thomas E. Perez summed up this view in blunt terms. \\u201cWe got our ass kicked in a lot of these rural pockets because we weren\\u2019t there in sufficient force,\\u201d Mr. Perez said. Representative Gwen Graham, Democrat of Florida and a likely candidate for governor in 2018, called her party\\u2019s message \\u201ctoo funneled. \\u201d It needed to be more open to pursuing moderate and conservative voters, she said. Ms. Graham, who was elected in a   district in the Florida Panhandle, said she would campaign across every part of the state if she ran for governor. Though she declined to criticize her party\\u2019s presidential nominee directly, such campaigning would be starkly different from the approach Mrs. Clinton took in 2016, when she focused overwhelmingly on the state\\u2019s biggest metropolitan areas. \\u201cI would run a   strategy,\\u201d Ms. Graham said. \\u201cAnd I would reach out to all different kinds of Democrats and Republicans, along the ideological spectrum. \\u201d But while this may make for a good message at the outset of a campaign, it is, to a vocal contingent of Democratic strategists, a dated approach that ignores inexorable political and demographic trendlines. To win in a changing country, these Democrats said, the party must tailor a platform and strategy that explicitly appealed to younger and nonwhite voters on issues like policing, climate change and immigration. Cornell Belcher, a Democratic pollster, said it was folly to continue developing a message for and devoting considerable resources to \\u201ca shrinking, increasingly resistant market. \\u201d Mr. Belcher recalled focus groups in North Carolina this year in which nonwhite voters who had come out for Mr. Obama\\u2019s two elections could not name the party\\u2019s Senate candidate in the state. (It was Deborah Ross she lost.) \\u201cWe\\u2019re spending all of our resources on broadcast television chasing this mythical unicorn white swing voter,\\u201d he said. Mr. Belcher, who has published a new book about race and the Obama presidency, \\u201cA Black Man in the White House,\\u201d said the party should not ignore white voters. But he said Democrats also should not react to this election by refashioning their appeal as if the country were just as white as it was when Bill Clinton and other centrists began the Democratic Leadership Council 30 years ago. \\u201cWhy would we go back to running campaigns as though it\\u2019s the 1980s?\\u201d Mr. Belcher asked. \\u201cBecause it\\u2019s not the 1980s. \\u201d Mr. Pfeiffer, the former Obama adviser, noted that red states like Arizona and Georgia were closer to turning blue this year even as Mrs. Clinton lost, and argued that new arrivals in Florida and North Carolina would make those states tilt Democratic. Yet even Democrats in solidly blue states, who can in theory win elections without a single conservative vote, said the party\\u2019s   message was lacking. Mayor Eric M. Garcetti of Los Angeles said Democrats had not explained to many voters how tolerant social values translated into government action. \\u201cOf course we are for a tolerant, diverse, inclusive, cooperative future,\\u201d he said. \\u201cIt isn\\u2019t enough. \\u201d Mr. Garcetti likened the party\\u2019s message to the gestures of conciliation proposed by civic leaders in Los Angeles after the Rodney King riots in the 1990s  \\u2014   well intentioned but insufficient. \\u201cIf the starting point is: \\u2018Hey, we are a party and we are a country that stands for blacks and Koreans and people of all stripes liking each other,\\u2019 that\\u2019s not an agenda,\\u201d Mr. Garcetti said. \\u201cThese values aren\\u2019t just about social inclusion. They\\u2019re about getting things done. \\u201d\",\n          \"She had her fun and, it appears, she was ready to come home. After a brief flirtation with freedom, Ollie, a    bobcat living at the Smithsonian\\u2019s National Zoo in Washington, was found on Wednesday near the zoo\\u2019s birdhouse, officials said. Though they could not retrace the   bobcat\\u2019s nearly   adventure, officials said she might have left the property but most likely never strayed more than two miles from the zoo. \\u201cWe\\u2019re just    happy,\\u201d Craig Saffoe, the zoo\\u2019s curator of great cats, said at an evening news conference. Ollie\\u2019s disappearance on Monday morning reportedly led some area schools to cancel recess and inspired a slew of jokes, a Twitter parody account and grand metaphors. (She had become \\u201ca symbol of freedom and one of its last hopes in a world gone rotten,\\u201d The Washingtonian proclaimed on Wednesday night.) But for zoo officials, her capture, thanks to a tip from a visitor who spotted her crossing a walkway, offered relief. After receiving the tip, staff members at the birdhouse notified Mr. Saffoe and his colleagues, who set up live traps in the area of the sighting. \\u201cWithin 15 minutes, the birdhouse keepers called us back and told us, \\u2018We have a bobcat in a trap up here,\\u2019\\u201d he said. Ollie was taken to a veterinary hospital, where she was determined to have suffered no harm from the adventure, save a small cut on her front left paw, said Dr. Brandie Smith, the National Zoo\\u2019s associate director for animal care sciences. \\u201cThere\\u2019s no need to treat it,\\u201d Dr. Smith said. \\u201cWe\\u2019re just letting her be kind of calm and safe and secure. \\u201d Ollie will receive a full examination on Thursday, and the zoo plans to investigate how she was able to leave her enclosure, Dr. Smith added. Ollie probably never traveled far, apparently sticking close to Rock Creek, which abuts the zoo, Mr. Saffoe said. Reported sightings of her on a nearby road appeared to be credible, too, he added. \\u201cI think she wanted to go out, have a little bit of fun, see what it was like on the outside,\\u201d he said. Zoo officials said this week that they did not consider Ollie a threat to humans, but that she might pose a threat to cats, dogs and birds. Mr. Saffoe described her on Wednesday as \\u201cstandoffish. \\u201d \\u201cShe\\u2019s not the cat who\\u2019s going to walk right up to you,\\u201d he said, adding that he had suspected she was nearby and watching as the zoo staff set up the trap that ultimately ensnared her. \\u201cShe was just waiting to see what kind of goodies we left for her,\\u201d he said. The last animal to vanish at the National Zoo was a male agouti  \\u2014   a   rodent  \\u2014   named Macadamia, said Pamela   a zoo spokeswoman. He escaped for only a  . The Virginia Zoo in Norfolk has not been as fortunate: It has yet to report any reliable leads in the search for Sunny, a red panda who disappeared early last week.\"\n        ],\n        \"semantic_type\": \"\",\n        \"description\": \"\"\n      }\n    },\n    {\n      \"column\": \"unreliable\",\n      \"properties\": {\n        \"dtype\": \"number\",\n        \"std\": 0,\n        \"min\": 0,\n        \"max\": 1,\n        \"num_unique_values\": 2,\n        \"samples\": [\n          0,\n          1\n        ],\n        \"semantic_type\": \"\",\n        \"description\": \"\"\n      }\n    },\n    {\n      \"column\": \"author\",\n      \"properties\": {\n        \"dtype\": \"category\",\n        \"num_unique_values\": 3839,\n        \"samples\": [\n          \"Ruth La Ferla\",\n          \"Brian X. Chen, Farhad Manjoo and Vindu Goel\"\n        ],\n        \"semantic_type\": \"\",\n        \"description\": \"\"\n      }\n    },\n    {\n      \"column\": \"title_tokens\",\n      \"properties\": {\n        \"dtype\": \"number\",\n        \"std\": 6.129212865823069,\n        \"min\": 1.5,\n        \"max\": 108.0,\n        \"num_unique_values\": 46,\n        \"samples\": [\n          57.0,\n          9.0\n        ],\n        \"semantic_type\": \"\",\n        \"description\": \"\"\n      }\n    },\n    {\n      \"column\": \"text_tokens\",\n      \"properties\": {\n        \"dtype\": \"number\",\n        \"std\": 884.3717464344176,\n        \"min\": 0.0,\n        \"max\": 36351.0,\n        \"num_unique_values\": 2732,\n        \"samples\": [\n          666.0,\n          1638.0\n        ],\n        \"semantic_type\": \"\",\n        \"description\": \"\"\n      }\n    }\n  ]\n}"
      }
     },
     "metadata": {},
     "execution_count": 102
    }
   ]
  },
  {
   "cell_type": "code",
   "source": [
    "df.iloc[0][0], df.iloc[0][1]"
   ],
   "metadata": {
    "colab": {
     "base_uri": "https://localhost:8080/"
    },
    "id": "wTwpaCwbqUnd",
    "outputId": "da9d3c72-e2e2-41aa-b41d-40537be2a654"
   },
   "execution_count": null,
   "outputs": [
    {
     "output_type": "stream",
     "name": "stderr",
     "text": [
      "/tmp/ipython-input-956240467.py:1: FutureWarning: Series.__getitem__ treating keys as positions is deprecated. In a future version, integer keys will always be treated as labels (consistent with DataFrame behavior). To access a value by position, use `ser.iloc[pos]`\n",
      "  df.iloc[0][0], df.iloc[0][1]\n"
     ]
    },
    {
     "output_type": "execute_result",
     "data": {
      "text/plain": [
       "('WARNING: A Pivotal Moment For The Stock Market May Be Here',\n",
       " 'WARNING: A Pivotal Moment For The Stock Market May Be Here Page 1 10/16/16 2 Mail with questions or comments about this site. \"Godlike Productions\" & \"GLP\" are registered trademarks of Zero Point Ltd. Godlike Website Design Copyright © 1999 - 2015 Godlikeproductions.com')"
      ]
     },
     "metadata": {},
     "execution_count": 103
    }
   ]
  },
  {
   "cell_type": "code",
   "source": [
    "df.iloc[0]"
   ],
   "metadata": {
    "colab": {
     "base_uri": "https://localhost:8080/",
     "height": 272
    },
    "id": "c97E2FWnrW2s",
    "outputId": "9285089b-6db8-41a7-f4ae-313a2aebfd16"
   },
   "execution_count": null,
   "outputs": [
    {
     "output_type": "execute_result",
     "data": {
      "text/plain": [
       "title           WARNING: A Pivotal Moment For The Stock Market...\n",
       "text            WARNING: A Pivotal Moment For The Stock Market...\n",
       "unreliable                                                      1\n",
       "author                            Anonymous Coward (UID 72071746)\n",
       "title_tokens                                                 16.5\n",
       "text_tokens                                                  64.5\n",
       "Name: 0, dtype: object"
      ],
      "text/html": [
       "<div>\n",
       "<style scoped>\n",
       "    .dataframe tbody tr th:only-of-type {\n",
       "        vertical-align: middle;\n",
       "    }\n",
       "\n",
       "    .dataframe tbody tr th {\n",
       "        vertical-align: top;\n",
       "    }\n",
       "\n",
       "    .dataframe thead th {\n",
       "        text-align: right;\n",
       "    }\n",
       "</style>\n",
       "<table border=\"1\" class=\"dataframe\">\n",
       "  <thead>\n",
       "    <tr style=\"text-align: right;\">\n",
       "      <th></th>\n",
       "      <th>0</th>\n",
       "    </tr>\n",
       "  </thead>\n",
       "  <tbody>\n",
       "    <tr>\n",
       "      <th>title</th>\n",
       "      <td>WARNING: A Pivotal Moment For The Stock Market...</td>\n",
       "    </tr>\n",
       "    <tr>\n",
       "      <th>text</th>\n",
       "      <td>WARNING: A Pivotal Moment For The Stock Market...</td>\n",
       "    </tr>\n",
       "    <tr>\n",
       "      <th>unreliable</th>\n",
       "      <td>1</td>\n",
       "    </tr>\n",
       "    <tr>\n",
       "      <th>author</th>\n",
       "      <td>Anonymous Coward (UID 72071746)</td>\n",
       "    </tr>\n",
       "    <tr>\n",
       "      <th>title_tokens</th>\n",
       "      <td>16.5</td>\n",
       "    </tr>\n",
       "    <tr>\n",
       "      <th>text_tokens</th>\n",
       "      <td>64.5</td>\n",
       "    </tr>\n",
       "  </tbody>\n",
       "</table>\n",
       "</div><br><label><b>dtype:</b> object</label>"
      ]
     },
     "metadata": {},
     "execution_count": 104
    }
   ]
  },
  {
   "cell_type": "code",
   "source": [
    "def tokenize(batch, tokenizer):\n",
    "  tokenized_batch = tokenizer(batch[\"text\"], padding=True, truncation=True)\n",
    "  tokenized_batch[\"labels\"] = batch[\"unreliable\"]\n",
    "  return tokenized_batch"
   ],
   "metadata": {
    "id": "-8MdJZMdrlJm"
   },
   "execution_count": null,
   "outputs": []
  },
  {
   "cell_type": "code",
   "source": [
    "train[\"text\"].iloc[0]"
   ],
   "metadata": {
    "colab": {
     "base_uri": "https://localhost:8080/",
     "height": 105
    },
    "id": "Xyy-5F-VsSDJ",
    "outputId": "b0bb1bf1-c0bf-4bb4-aadf-a7ddec94befe"
   },
   "execution_count": null,
   "outputs": [
    {
     "output_type": "execute_result",
     "data": {
      "text/plain": [
       "'PBS host Judy Woodroof asked Hillary if she believed President Trump is racist? Hillary pauses for effect and then delivers her very scripted answer to Woodruff:  Here s what I believe, I believe that he has given a lot of encouragement and rhetorical support to the Ku Klux Klan, he accepted the support of David Duke. Hillary knowingly pushed the lie that Trump accepted the support of KKK member David Duke. It s the same lie she s been peddling since Trump became her opponent in the presidential race, even though she knows there isn t one shred of evidence or proof to back up her sick claim. Her answer to Woodruff is nothing more than a lame attempt to pin Trump a false allegation on our sitting President while deflecting from the truth about her ACTUAL ties to the KKK. Watch Hillary attempt to paint President Trump as a  racist .When President Trump was dropping out of the Reform Party primary in 2000, he clearly condemned David Duke during an interview with Matt Lauer.When pressed by Matt Lauer on why he saw the Reform Party as self-destructing, Trump commented: Well, you ve got David Duke just joined, a bigot, a racist, a problem, I mean, this is not exactly the people you want in your party. Watch Trump s 2000 interview with Lauer here:What Hillary Clinton didn t mention to Judy Woodruff during her interview, was that her presidential campaign received more than $20,000 in donations contributed by members of the Ku Klux Klan. Vocativ reported that a prominent member of the hate group Will Quigg of the California Grand Dragon for the Loyal White Knights said,  For the KKK, Clinton is our choice . Mr. Quigg, the leader of the Klan s California chapter, announced last month that he had abandoned supporting Republican presidential front-runner Donald Trump in lieu of backing his likely Democratic opponent. The Klansman claims that members have raised more than $20,000 for Mrs. Clinton and have donated it anonymously to her campaign.  She is friends with the Klan,  Mr. Quigg told Vocativ.  A lot of people don t realize that. Hillary never made any secret of her love and admiration for her  mentor,  the late Klan leader Democrat Senator, Robert Byrd.In a video uploaded to the State Department s official YouTube page on June 28, 2010, Clinton commemorated late Sen. Byrd by saying,  Today our country has lost a true American original, my friend and mentor Robert C. Byrd. '"
      ],
      "application/vnd.google.colaboratory.intrinsic+json": {
       "type": "string"
      }
     },
     "metadata": {},
     "execution_count": 106
    }
   ]
  },
  {
   "cell_type": "code",
   "source": [
    "train.iloc[0][\"text\"]"
   ],
   "metadata": {
    "colab": {
     "base_uri": "https://localhost:8080/",
     "height": 105
    },
    "id": "4eka6VFJsjPt",
    "outputId": "ea7dbaa7-ad13-4bdd-cd4a-0c9e0c7ce43f"
   },
   "execution_count": null,
   "outputs": [
    {
     "output_type": "execute_result",
     "data": {
      "text/plain": [
       "'PBS host Judy Woodroof asked Hillary if she believed President Trump is racist? Hillary pauses for effect and then delivers her very scripted answer to Woodruff:  Here s what I believe, I believe that he has given a lot of encouragement and rhetorical support to the Ku Klux Klan, he accepted the support of David Duke. Hillary knowingly pushed the lie that Trump accepted the support of KKK member David Duke. It s the same lie she s been peddling since Trump became her opponent in the presidential race, even though she knows there isn t one shred of evidence or proof to back up her sick claim. Her answer to Woodruff is nothing more than a lame attempt to pin Trump a false allegation on our sitting President while deflecting from the truth about her ACTUAL ties to the KKK. Watch Hillary attempt to paint President Trump as a  racist .When President Trump was dropping out of the Reform Party primary in 2000, he clearly condemned David Duke during an interview with Matt Lauer.When pressed by Matt Lauer on why he saw the Reform Party as self-destructing, Trump commented: Well, you ve got David Duke just joined, a bigot, a racist, a problem, I mean, this is not exactly the people you want in your party. Watch Trump s 2000 interview with Lauer here:What Hillary Clinton didn t mention to Judy Woodruff during her interview, was that her presidential campaign received more than $20,000 in donations contributed by members of the Ku Klux Klan. Vocativ reported that a prominent member of the hate group Will Quigg of the California Grand Dragon for the Loyal White Knights said,  For the KKK, Clinton is our choice . Mr. Quigg, the leader of the Klan s California chapter, announced last month that he had abandoned supporting Republican presidential front-runner Donald Trump in lieu of backing his likely Democratic opponent. The Klansman claims that members have raised more than $20,000 for Mrs. Clinton and have donated it anonymously to her campaign.  She is friends with the Klan,  Mr. Quigg told Vocativ.  A lot of people don t realize that. Hillary never made any secret of her love and admiration for her  mentor,  the late Klan leader Democrat Senator, Robert Byrd.In a video uploaded to the State Department s official YouTube page on June 28, 2010, Clinton commemorated late Sen. Byrd by saying,  Today our country has lost a true American original, my friend and mentor Robert C. Byrd. '"
      ],
      "application/vnd.google.colaboratory.intrinsic+json": {
       "type": "string"
      }
     },
     "metadata": {},
     "execution_count": 107
    }
   ]
  },
  {
   "cell_type": "code",
   "source": [
    "tokenize(train.iloc[0], distilbert_model)"
   ],
   "metadata": {
    "colab": {
     "base_uri": "https://localhost:8080/"
    },
    "id": "00-JB3CW00ON",
    "outputId": "72f4739b-3e7a-4a16-e6a4-1cc6138f860a"
   },
   "execution_count": null,
   "outputs": [
    {
     "output_type": "execute_result",
     "data": {
      "text/plain": [
       "{'input_ids': [101, 13683, 3677, 12120, 3536, 3217, 11253, 2356, 18520, 2065, 2016, 3373, 2343, 8398, 2003, 16939, 1029, 18520, 19623, 2005, 3466, 1998, 2059, 18058, 2014, 2200, 22892, 3437, 2000, 3536, 26919, 1024, 2182, 1055, 2054, 1045, 2903, 1010, 1045, 2903, 2008, 2002, 2038, 2445, 1037, 2843, 1997, 15846, 1998, 17871, 2389, 2490, 2000, 1996, 13970, 1047, 25148, 26613, 1010, 2002, 3970, 1996, 2490, 1997, 2585, 3804, 1012, 18520, 4209, 2135, 3724, 1996, 4682, 2008, 8398, 3970, 1996, 2490, 1997, 1047, 19658, 2266, 2585, 3804, 1012, 2009, 1055, 1996, 2168, 4682, 2016, 1055, 2042, 21877, 21814, 2144, 8398, 2150, 2014, 7116, 1999, 1996, 4883, 2679, 1010, 2130, 2295, 2016, 4282, 2045, 3475, 1056, 2028, 14021, 5596, 1997, 3350, 2030, 6947, 2000, 2067, 2039, 2014, 5305, 4366, 1012, 2014, 3437, 2000, 3536, 26919, 2003, 2498, 2062, 2084, 1037, 20342, 3535, 2000, 9231, 8398, 1037, 6270, 2035, 29107, 3508, 2006, 2256, 3564, 2343, 2096, 13366, 2571, 11873, 2013, 1996, 3606, 2055, 2014, 5025, 7208, 2000, 1996, 1047, 19658, 1012, 3422, 18520, 3535, 2000, 6773, 2343, 8398, 2004, 1037, 16939, 1012, 2043, 2343, 8398, 2001, 7510, 2041, 1997, 1996, 5290, 2283, 3078, 1999, 2456, 1010, 2002, 4415, 10033, 2585, 3804, 2076, 2019, 4357, 2007, 4717, 21360, 2121, 1012, 2043, 4508, 2011, 4717, 21360, 2121, 2006, 2339, 2002, 2387, 1996, 5290, 2283, 2004, 2969, 1011, 4078, 26310, 1010, 8398, 7034, 1024, 2092, 1010, 2017, 2310, 2288, 2585, 3804, 2074, 2587, 1010, 1037, 2502, 4140, 1010, 1037, 16939, 1010, 1037, 3291, 1010, 1045, 2812, 1010, 2023, 2003, 2025, 3599, 1996, 2111, 2017, 2215, 1999, 2115, 2283, 1012, 3422, 8398, 1055, 2456, 4357, 2007, 21360, 2121, 2182, 1024, 2054, 18520, 7207, 2134, 1056, 5254, 2000, 12120, 3536, 26919, 2076, 2014, 4357, 1010, 2001, 2008, 2014, 4883, 3049, 2363, 2062, 2084, 1002, 2322, 1010, 2199, 1999, 11440, 5201, 2011, 2372, 1997, 1996, 13970, 1047, 25148, 26613, 1012, 29536, 11266, 12848, 2988, 2008, 1037, 4069, 2266, 1997, 1996, 5223, 2177, 2097, 21864, 13871, 1997, 1996, 2662, 2882, 5202, 2005, 1996, 8884, 2317, 7307, 2056, 1010, 2005, 1996, 1047, 19658, 1010, 7207, 2003, 2256, 3601, 1012, 2720, 1012, 21864, 13871, 1010, 1996, 3003, 1997, 1996, 26613, 1055, 2662, 3127, 1010, 2623, 2197, 3204, 2008, 2002, 2018, 4704, 4637, 3951, 4883, 2392, 1011, 5479, 6221, 8398, 1999, 22470, 1997, 5150, 2010, 3497, 3537, 7116, 1012, 1996, 26613, 11512, 4447, 2008, 2372, 2031, 2992, 2062, 2084, 1002, 2322, 1010, 2199, 2005, 3680, 1012, 7207, 1998, 2031, 6955, 2009, 10812, 2135, 2000, 2014, 3049, 1012, 2016, 2003, 2814, 2007, 1996, 26613, 1010, 2720, 1012, 21864, 13871, 2409, 29536, 11266, 12848, 1012, 1037, 2843, 1997, 2111, 2123, 1056, 5382, 2008, 1012, 18520, 2196, 2081, 2151, 3595, 1997, 2014, 2293, 1998, 17005, 2005, 2014, 10779, 1010, 1996, 2397, 26613, 3003, 7672, 5205, 1010, 2728, 17845, 1012, 1999, 1037, 2678, 21345, 2000, 1996, 2110, 2533, 1055, 2880, 7858, 3931, 2006, 2238, 2654, 1010, 2230, 1010, 7207, 19131, 2397, 12411, 1012, 17845, 2011, 3038, 1010, 2651, 2256, 2406, 2038, 2439, 1037, 2995, 2137, 2434, 1010, 2026, 2767, 1998, 10779, 2728, 1039, 1012, 17845, 1012, 102], 'attention_mask': [1, 1, 1, 1, 1, 1, 1, 1, 1, 1, 1, 1, 1, 1, 1, 1, 1, 1, 1, 1, 1, 1, 1, 1, 1, 1, 1, 1, 1, 1, 1, 1, 1, 1, 1, 1, 1, 1, 1, 1, 1, 1, 1, 1, 1, 1, 1, 1, 1, 1, 1, 1, 1, 1, 1, 1, 1, 1, 1, 1, 1, 1, 1, 1, 1, 1, 1, 1, 1, 1, 1, 1, 1, 1, 1, 1, 1, 1, 1, 1, 1, 1, 1, 1, 1, 1, 1, 1, 1, 1, 1, 1, 1, 1, 1, 1, 1, 1, 1, 1, 1, 1, 1, 1, 1, 1, 1, 1, 1, 1, 1, 1, 1, 1, 1, 1, 1, 1, 1, 1, 1, 1, 1, 1, 1, 1, 1, 1, 1, 1, 1, 1, 1, 1, 1, 1, 1, 1, 1, 1, 1, 1, 1, 1, 1, 1, 1, 1, 1, 1, 1, 1, 1, 1, 1, 1, 1, 1, 1, 1, 1, 1, 1, 1, 1, 1, 1, 1, 1, 1, 1, 1, 1, 1, 1, 1, 1, 1, 1, 1, 1, 1, 1, 1, 1, 1, 1, 1, 1, 1, 1, 1, 1, 1, 1, 1, 1, 1, 1, 1, 1, 1, 1, 1, 1, 1, 1, 1, 1, 1, 1, 1, 1, 1, 1, 1, 1, 1, 1, 1, 1, 1, 1, 1, 1, 1, 1, 1, 1, 1, 1, 1, 1, 1, 1, 1, 1, 1, 1, 1, 1, 1, 1, 1, 1, 1, 1, 1, 1, 1, 1, 1, 1, 1, 1, 1, 1, 1, 1, 1, 1, 1, 1, 1, 1, 1, 1, 1, 1, 1, 1, 1, 1, 1, 1, 1, 1, 1, 1, 1, 1, 1, 1, 1, 1, 1, 1, 1, 1, 1, 1, 1, 1, 1, 1, 1, 1, 1, 1, 1, 1, 1, 1, 1, 1, 1, 1, 1, 1, 1, 1, 1, 1, 1, 1, 1, 1, 1, 1, 1, 1, 1, 1, 1, 1, 1, 1, 1, 1, 1, 1, 1, 1, 1, 1, 1, 1, 1, 1, 1, 1, 1, 1, 1, 1, 1, 1, 1, 1, 1, 1, 1, 1, 1, 1, 1, 1, 1, 1, 1, 1, 1, 1, 1, 1, 1, 1, 1, 1, 1, 1, 1, 1, 1, 1, 1, 1, 1, 1, 1, 1, 1, 1, 1, 1, 1, 1, 1, 1, 1, 1, 1, 1, 1, 1, 1, 1, 1, 1, 1, 1, 1, 1, 1, 1, 1, 1, 1, 1, 1, 1, 1, 1, 1, 1, 1, 1, 1, 1, 1, 1, 1, 1, 1, 1, 1, 1, 1, 1, 1, 1, 1, 1, 1, 1, 1, 1, 1, 1, 1, 1, 1, 1, 1, 1, 1, 1, 1, 1, 1, 1, 1, 1, 1, 1, 1, 1, 1, 1, 1, 1, 1, 1, 1, 1, 1, 1, 1, 1, 1, 1, 1, 1, 1, 1, 1, 1, 1, 1, 1, 1, 1, 1, 1, 1, 1, 1, 1, 1, 1, 1, 1, 1, 1, 1, 1, 1, 1, 1, 1, 1, 1, 1, 1, 1, 1, 1, 1], 'labels': np.int64(1)}"
      ]
     },
     "metadata": {},
     "execution_count": 108
    }
   ]
  },
  {
   "cell_type": "code",
   "source": [
    "distilbert_model(train.iloc[0][\"text\"]) == tokenize(train.iloc[0], distilbert_model)"
   ],
   "metadata": {
    "colab": {
     "base_uri": "https://localhost:8080/"
    },
    "id": "mOuTTHUXsWqb",
    "outputId": "ac89221c-bfee-48ef-8d32-a7ad0c1a64a5"
   },
   "execution_count": null,
   "outputs": [
    {
     "output_type": "execute_result",
     "data": {
      "text/plain": [
       "False"
      ]
     },
     "metadata": {},
     "execution_count": 109
    }
   ]
  },
  {
   "cell_type": "code",
   "source": [
    "tokenized_dataset0 = dataset.map(tokenize, batched=True, fn_kwargs={\"tokenizer\": distilbert_model})"
   ],
   "metadata": {
    "colab": {
     "base_uri": "https://localhost:8080/",
     "height": 113,
     "referenced_widgets": [
      "e8a72c8546284b54bc0bf743c8994ad4",
      "65372fb2bc7f4acf8b5033fa1f352bc3",
      "fe4a0e074df742909f90522778325e6c",
      "8bdc6846758c4eefaadacff6476f49a2",
      "bad5bf76b2424073bbfbf97639972b37",
      "6dfde67ef76a427fb18145a7b4c28487",
      "11ae6191d14c4caa940e1a33c83e7b36",
      "f0b81f5da16e4e8d8a90a055573a4926",
      "8f89a82b375c4b82b91a10173c054eb0",
      "414dc76e324d4a7bb25294138de86477",
      "4877fc69f6f041a083b9d8f2e31cc71b",
      "1b67709544c143a2a10024552e22d5a9",
      "5375a8f94d9846599d1303c76c43ac14",
      "795b34a6f7bc42ba95748dc56355436d",
      "cfada35410f54d10b22562e278de232a",
      "923b20f1746e42e099cf799a46a79d3c",
      "f5c9e2e0f7464b69ad1752c695665878",
      "fc4c564b813b41af982d8a6baf9c1db7",
      "866591d573b245fea133dedb631d0671",
      "ac509cc1287d46a5827c657d25be9cf6",
      "9f6fe1986a124a6d87e238d6bc0a6871",
      "87305d949d20474692cb87b6fe85f578",
      "efcbd2a991a54c24ab261e26a24a60e2",
      "83fff7e3dd7d49fea01a340d7b7234f8",
      "286a26fe725a4a4c9d73b7f5e6c9433e",
      "462415572ed24c7e802dc1d75f269025",
      "48e3980329f04e449eecb43e03cc0071",
      "cb55df60d8f24e29b62ab18e33a049f5",
      "1b01e1e8f31e473f8c7a215074559951",
      "89cd58619ae1477bb42f33117fbe44b0",
      "ba31e2699301450fb8e87f302c5b6b58",
      "52f79d80a5544d4590191fd06d80b896",
      "efed87d343f04330babdcc1ad32d5f3f"
     ]
    },
    "id": "-ptoZgaust81",
    "outputId": "4e810de9-1ae0-4305-965d-41935b2eb40f"
   },
   "execution_count": null,
   "outputs": [
    {
     "output_type": "display_data",
     "data": {
      "text/plain": [
       "Map:   0%|          | 0/44227 [00:00<?, ? examples/s]"
      ],
      "application/vnd.jupyter.widget-view+json": {
       "version_major": 2,
       "version_minor": 0,
       "model_id": "e8a72c8546284b54bc0bf743c8994ad4"
      }
     },
     "metadata": {}
    },
    {
     "output_type": "display_data",
     "data": {
      "text/plain": [
       "Map:   0%|          | 0/16111 [00:00<?, ? examples/s]"
      ],
      "application/vnd.jupyter.widget-view+json": {
       "version_major": 2,
       "version_minor": 0,
       "model_id": "1b67709544c143a2a10024552e22d5a9"
      }
     },
     "metadata": {}
    },
    {
     "output_type": "display_data",
     "data": {
      "text/plain": [
       "Map:   0%|          | 0/2844 [00:00<?, ? examples/s]"
      ],
      "application/vnd.jupyter.widget-view+json": {
       "version_major": 2,
       "version_minor": 0,
       "model_id": "efcbd2a991a54c24ab261e26a24a60e2"
      }
     },
     "metadata": {}
    }
   ]
  },
  {
   "cell_type": "code",
   "source": [
    "from transformers import AutoModel\n",
    "import torch"
   ],
   "metadata": {
    "id": "brQ9VpF8tFOe"
   },
   "execution_count": null,
   "outputs": []
  },
  {
   "cell_type": "code",
   "source": [
    "label2id = {\"Reliable\": 0, \"Unreliable\": 1}\n",
    "id2label = {0: \"Reliable\", 1: \"Unreliable\"}"
   ],
   "metadata": {
    "id": "hMXaAhCXuYY7"
   },
   "execution_count": null,
   "outputs": []
  },
  {
   "cell_type": "code",
   "source": [
    "model_distilbert = AutoModel.from_pretrained(\"distilbert-base-uncased\")"
   ],
   "metadata": {
    "id": "4yu-wooVuvBe"
   },
   "execution_count": null,
   "outputs": []
  },
  {
   "cell_type": "code",
   "source": [
    "device = torch.device(\"cuda\" if torch.cuda.is_available() else \"cpu\")\n",
    "\n",
    "device"
   ],
   "metadata": {
    "colab": {
     "base_uri": "https://localhost:8080/"
    },
    "id": "10_0pvfhu59E",
    "outputId": "441aa9a3-b60b-465d-dcda-f6aac3f1c3ab"
   },
   "execution_count": null,
   "outputs": [
    {
     "output_type": "execute_result",
     "data": {
      "text/plain": [
       "device(type='cuda')"
      ]
     },
     "metadata": {},
     "execution_count": 114
    }
   ]
  },
  {
   "cell_type": "code",
   "source": [
    "from transformers import AutoConfig, AutoModelForSequenceClassification"
   ],
   "metadata": {
    "id": "3fWvCIlRvNy0"
   },
   "execution_count": null,
   "outputs": []
  },
  {
   "cell_type": "code",
   "source": [
    "config = AutoConfig.from_pretrained(\"distilbert-base-uncased\", label2id=label2id, id2label=id2label)"
   ],
   "metadata": {
    "id": "Pfp2h0h6vGcA"
   },
   "execution_count": null,
   "outputs": []
  },
  {
   "cell_type": "code",
   "source": [
    "model_distilbert0 = AutoModelForSequenceClassification.from_pretrained(\"distilbert-base-uncased\", config=config).to(device)"
   ],
   "metadata": {
    "colab": {
     "base_uri": "https://localhost:8080/"
    },
    "id": "ySEDzQf0vWVE",
    "outputId": "babb5d7b-aeb8-49de-ba11-b726e0244a5f"
   },
   "execution_count": null,
   "outputs": [
    {
     "output_type": "stream",
     "name": "stderr",
     "text": [
      "Some weights of DistilBertForSequenceClassification were not initialized from the model checkpoint at distilbert-base-uncased and are newly initialized: ['classifier.bias', 'classifier.weight', 'pre_classifier.bias', 'pre_classifier.weight']\n",
      "You should probably TRAIN this model on a down-stream task to be able to use it for predictions and inference.\n"
     ]
    }
   ]
  },
  {
   "cell_type": "code",
   "source": [
    "model_distilbert0.device"
   ],
   "metadata": {
    "colab": {
     "base_uri": "https://localhost:8080/"
    },
    "id": "xJdS9-qRvcSM",
    "outputId": "c8d95fb7-3872-4f4e-8401-6fffe1dbb34e"
   },
   "execution_count": null,
   "outputs": [
    {
     "output_type": "execute_result",
     "data": {
      "text/plain": [
       "device(type='cuda', index=0)"
      ]
     },
     "metadata": {},
     "execution_count": 118
    }
   ]
  },
  {
   "cell_type": "code",
   "source": [
    "model_distilbert"
   ],
   "metadata": {
    "colab": {
     "base_uri": "https://localhost:8080/"
    },
    "id": "_QIcHgL4vff-",
    "outputId": "5d18f5e6-7523-4ec1-d204-0da74fb14c82"
   },
   "execution_count": null,
   "outputs": [
    {
     "output_type": "execute_result",
     "data": {
      "text/plain": [
       "DistilBertModel(\n",
       "  (embeddings): Embeddings(\n",
       "    (word_embeddings): Embedding(30522, 768, padding_idx=0)\n",
       "    (position_embeddings): Embedding(512, 768)\n",
       "    (LayerNorm): LayerNorm((768,), eps=1e-12, elementwise_affine=True)\n",
       "    (dropout): Dropout(p=0.1, inplace=False)\n",
       "  )\n",
       "  (transformer): Transformer(\n",
       "    (layer): ModuleList(\n",
       "      (0-5): 6 x TransformerBlock(\n",
       "        (attention): DistilBertSdpaAttention(\n",
       "          (dropout): Dropout(p=0.1, inplace=False)\n",
       "          (q_lin): Linear(in_features=768, out_features=768, bias=True)\n",
       "          (k_lin): Linear(in_features=768, out_features=768, bias=True)\n",
       "          (v_lin): Linear(in_features=768, out_features=768, bias=True)\n",
       "          (out_lin): Linear(in_features=768, out_features=768, bias=True)\n",
       "        )\n",
       "        (sa_layer_norm): LayerNorm((768,), eps=1e-12, elementwise_affine=True)\n",
       "        (ffn): FFN(\n",
       "          (dropout): Dropout(p=0.1, inplace=False)\n",
       "          (lin1): Linear(in_features=768, out_features=3072, bias=True)\n",
       "          (lin2): Linear(in_features=3072, out_features=768, bias=True)\n",
       "          (activation): GELUActivation()\n",
       "        )\n",
       "        (output_layer_norm): LayerNorm((768,), eps=1e-12, elementwise_affine=True)\n",
       "      )\n",
       "    )\n",
       "  )\n",
       ")"
      ]
     },
     "metadata": {},
     "execution_count": 119
    }
   ]
  },
  {
   "cell_type": "code",
   "source": [
    "model_distilbert0"
   ],
   "metadata": {
    "colab": {
     "base_uri": "https://localhost:8080/"
    },
    "id": "d-iWLb3RvlHQ",
    "outputId": "56d9e3c2-a11e-4e7c-d86e-6221555c6271"
   },
   "execution_count": null,
   "outputs": [
    {
     "output_type": "execute_result",
     "data": {
      "text/plain": [
       "DistilBertForSequenceClassification(\n",
       "  (distilbert): DistilBertModel(\n",
       "    (embeddings): Embeddings(\n",
       "      (word_embeddings): Embedding(30522, 768, padding_idx=0)\n",
       "      (position_embeddings): Embedding(512, 768)\n",
       "      (LayerNorm): LayerNorm((768,), eps=1e-12, elementwise_affine=True)\n",
       "      (dropout): Dropout(p=0.1, inplace=False)\n",
       "    )\n",
       "    (transformer): Transformer(\n",
       "      (layer): ModuleList(\n",
       "        (0-5): 6 x TransformerBlock(\n",
       "          (attention): DistilBertSdpaAttention(\n",
       "            (dropout): Dropout(p=0.1, inplace=False)\n",
       "            (q_lin): Linear(in_features=768, out_features=768, bias=True)\n",
       "            (k_lin): Linear(in_features=768, out_features=768, bias=True)\n",
       "            (v_lin): Linear(in_features=768, out_features=768, bias=True)\n",
       "            (out_lin): Linear(in_features=768, out_features=768, bias=True)\n",
       "          )\n",
       "          (sa_layer_norm): LayerNorm((768,), eps=1e-12, elementwise_affine=True)\n",
       "          (ffn): FFN(\n",
       "            (dropout): Dropout(p=0.1, inplace=False)\n",
       "            (lin1): Linear(in_features=768, out_features=3072, bias=True)\n",
       "            (lin2): Linear(in_features=3072, out_features=768, bias=True)\n",
       "            (activation): GELUActivation()\n",
       "          )\n",
       "          (output_layer_norm): LayerNorm((768,), eps=1e-12, elementwise_affine=True)\n",
       "        )\n",
       "      )\n",
       "    )\n",
       "  )\n",
       "  (pre_classifier): Linear(in_features=768, out_features=768, bias=True)\n",
       "  (classifier): Linear(in_features=768, out_features=2, bias=True)\n",
       "  (dropout): Dropout(p=0.2, inplace=False)\n",
       ")"
      ]
     },
     "metadata": {},
     "execution_count": 120
    }
   ]
  },
  {
   "cell_type": "code",
   "source": [
    "model_distilbert.config"
   ],
   "metadata": {
    "colab": {
     "base_uri": "https://localhost:8080/"
    },
    "id": "rAX-q2Ofv_Xg",
    "outputId": "ed917806-1d2e-4d47-cb2b-9a93592ed7fc"
   },
   "execution_count": null,
   "outputs": [
    {
     "output_type": "execute_result",
     "data": {
      "text/plain": [
       "DistilBertConfig {\n",
       "  \"activation\": \"gelu\",\n",
       "  \"architectures\": [\n",
       "    \"DistilBertForMaskedLM\"\n",
       "  ],\n",
       "  \"attention_dropout\": 0.1,\n",
       "  \"dim\": 768,\n",
       "  \"dropout\": 0.1,\n",
       "  \"hidden_dim\": 3072,\n",
       "  \"initializer_range\": 0.02,\n",
       "  \"max_position_embeddings\": 512,\n",
       "  \"model_type\": \"distilbert\",\n",
       "  \"n_heads\": 12,\n",
       "  \"n_layers\": 6,\n",
       "  \"pad_token_id\": 0,\n",
       "  \"qa_dropout\": 0.1,\n",
       "  \"seq_classif_dropout\": 0.2,\n",
       "  \"sinusoidal_pos_embds\": false,\n",
       "  \"tie_weights_\": true,\n",
       "  \"torch_dtype\": \"float32\",\n",
       "  \"transformers_version\": \"4.55.2\",\n",
       "  \"vocab_size\": 30522\n",
       "}"
      ]
     },
     "metadata": {},
     "execution_count": 121
    }
   ]
  },
  {
   "cell_type": "code",
   "source": [
    "model_distilbert0.config"
   ],
   "metadata": {
    "colab": {
     "base_uri": "https://localhost:8080/"
    },
    "id": "1uJbw46vwDj-",
    "outputId": "14bfa753-37c8-40ba-d2bf-72fe8a497def"
   },
   "execution_count": null,
   "outputs": [
    {
     "output_type": "execute_result",
     "data": {
      "text/plain": [
       "DistilBertConfig {\n",
       "  \"activation\": \"gelu\",\n",
       "  \"architectures\": [\n",
       "    \"DistilBertForMaskedLM\"\n",
       "  ],\n",
       "  \"attention_dropout\": 0.1,\n",
       "  \"dim\": 768,\n",
       "  \"dropout\": 0.1,\n",
       "  \"hidden_dim\": 3072,\n",
       "  \"id2label\": {\n",
       "    \"0\": \"Reliable\",\n",
       "    \"1\": \"Unreliable\"\n",
       "  },\n",
       "  \"initializer_range\": 0.02,\n",
       "  \"label2id\": {\n",
       "    \"Reliable\": 0,\n",
       "    \"Unreliable\": 1\n",
       "  },\n",
       "  \"max_position_embeddings\": 512,\n",
       "  \"model_type\": \"distilbert\",\n",
       "  \"n_heads\": 12,\n",
       "  \"n_layers\": 6,\n",
       "  \"pad_token_id\": 0,\n",
       "  \"qa_dropout\": 0.1,\n",
       "  \"seq_classif_dropout\": 0.2,\n",
       "  \"sinusoidal_pos_embds\": false,\n",
       "  \"tie_weights_\": true,\n",
       "  \"torch_dtype\": \"float32\",\n",
       "  \"transformers_version\": \"4.55.2\",\n",
       "  \"vocab_size\": 30522\n",
       "}"
      ]
     },
     "metadata": {},
     "execution_count": 122
    }
   ]
  },
  {
   "cell_type": "code",
   "source": [
    "!pip install -q -U evaluate"
   ],
   "metadata": {
    "id": "lhxFrQZNwGlp"
   },
   "execution_count": null,
   "outputs": []
  },
  {
   "cell_type": "code",
   "source": [
    "import evaluate\n",
    "import numpy as np"
   ],
   "metadata": {
    "id": "IZEOwZWBwX8p"
   },
   "execution_count": null,
   "outputs": []
  },
  {
   "cell_type": "code",
   "source": [
    "accuracy = evaluate.load(\"accuracy\")"
   ],
   "metadata": {
    "id": "Wxc3F1oYwZPk"
   },
   "execution_count": null,
   "outputs": []
  },
  {
   "cell_type": "code",
   "source": [
    "from transformers import TrainingArguments"
   ],
   "metadata": {
    "id": "dPajfNTpwa_5"
   },
   "execution_count": null,
   "outputs": []
  },
  {
   "cell_type": "code",
   "source": [
    "batch_size = 32\n",
    "\n",
    "training_dir = \"training_directory\""
   ],
   "metadata": {
    "id": "sgWroRlYwjr4"
   },
   "execution_count": null,
   "outputs": []
  },
  {
   "cell_type": "code",
   "source": [
    "TrainingArguments(\n",
    "  output_dir=training_dir,\n",
    "  overwrite_output_dir=True,\n",
    "  num_train_epochs=2,\n",
    "  learning_rate=1e-5,\n",
    "  per_device_train_batch_size=batch_size,\n",
    "  per_device_eval_batch_size=batch_size,\n",
    "  weight_decay=0.01,\n",
    "  disable_tqdm=False\n",
    ")"
   ],
   "metadata": {
    "colab": {
     "base_uri": "https://localhost:8080/"
    },
    "id": "aV6_KF4rwlGb",
    "outputId": "9553d909-6eb8-4885-cb06-d69c2eea0830"
   },
   "execution_count": null,
   "outputs": [
    {
     "output_type": "execute_result",
     "data": {
      "text/plain": [
       "TrainingArguments(\n",
       "_n_gpu=1,\n",
       "accelerator_config={'split_batches': False, 'dispatch_batches': None, 'even_batches': True, 'use_seedable_sampler': True, 'non_blocking': False, 'gradient_accumulation_kwargs': None, 'use_configured_state': False},\n",
       "adafactor=False,\n",
       "adam_beta1=0.9,\n",
       "adam_beta2=0.999,\n",
       "adam_epsilon=1e-08,\n",
       "auto_find_batch_size=False,\n",
       "average_tokens_across_devices=False,\n",
       "batch_eval_metrics=False,\n",
       "bf16=False,\n",
       "bf16_full_eval=False,\n",
       "data_seed=None,\n",
       "dataloader_drop_last=False,\n",
       "dataloader_num_workers=0,\n",
       "dataloader_persistent_workers=False,\n",
       "dataloader_pin_memory=True,\n",
       "dataloader_prefetch_factor=None,\n",
       "ddp_backend=None,\n",
       "ddp_broadcast_buffers=None,\n",
       "ddp_bucket_cap_mb=None,\n",
       "ddp_find_unused_parameters=None,\n",
       "ddp_timeout=1800,\n",
       "debug=[],\n",
       "deepspeed=None,\n",
       "disable_tqdm=False,\n",
       "do_eval=False,\n",
       "do_predict=False,\n",
       "do_train=False,\n",
       "eval_accumulation_steps=None,\n",
       "eval_delay=0,\n",
       "eval_do_concat_batches=True,\n",
       "eval_on_start=False,\n",
       "eval_steps=None,\n",
       "eval_strategy=IntervalStrategy.NO,\n",
       "eval_use_gather_object=False,\n",
       "fp16=False,\n",
       "fp16_backend=auto,\n",
       "fp16_full_eval=False,\n",
       "fp16_opt_level=O1,\n",
       "fsdp=[],\n",
       "fsdp_config={'min_num_params': 0, 'xla': False, 'xla_fsdp_v2': False, 'xla_fsdp_grad_ckpt': False},\n",
       "fsdp_min_num_params=0,\n",
       "fsdp_transformer_layer_cls_to_wrap=None,\n",
       "full_determinism=False,\n",
       "gradient_accumulation_steps=1,\n",
       "gradient_checkpointing=False,\n",
       "gradient_checkpointing_kwargs=None,\n",
       "greater_is_better=None,\n",
       "group_by_length=False,\n",
       "half_precision_backend=auto,\n",
       "hub_always_push=False,\n",
       "hub_model_id=None,\n",
       "hub_private_repo=None,\n",
       "hub_revision=None,\n",
       "hub_strategy=HubStrategy.EVERY_SAVE,\n",
       "hub_token=<HUB_TOKEN>,\n",
       "ignore_data_skip=False,\n",
       "include_for_metrics=[],\n",
       "include_inputs_for_metrics=False,\n",
       "include_num_input_tokens_seen=False,\n",
       "include_tokens_per_second=False,\n",
       "jit_mode_eval=False,\n",
       "label_names=None,\n",
       "label_smoothing_factor=0.0,\n",
       "learning_rate=1e-05,\n",
       "length_column_name=length,\n",
       "liger_kernel_config=None,\n",
       "load_best_model_at_end=False,\n",
       "local_rank=0,\n",
       "log_level=passive,\n",
       "log_level_replica=warning,\n",
       "log_on_each_node=True,\n",
       "logging_dir=training_directory/runs/Aug17_14-20-04_b29c2ec1d9eb,\n",
       "logging_first_step=False,\n",
       "logging_nan_inf_filter=True,\n",
       "logging_steps=500,\n",
       "logging_strategy=IntervalStrategy.STEPS,\n",
       "lr_scheduler_kwargs={},\n",
       "lr_scheduler_type=SchedulerType.LINEAR,\n",
       "max_grad_norm=1.0,\n",
       "max_steps=-1,\n",
       "metric_for_best_model=None,\n",
       "mp_parameters=,\n",
       "neftune_noise_alpha=None,\n",
       "no_cuda=False,\n",
       "num_train_epochs=2,\n",
       "optim=OptimizerNames.ADAMW_TORCH,\n",
       "optim_args=None,\n",
       "optim_target_modules=None,\n",
       "output_dir=training_directory,\n",
       "overwrite_output_dir=True,\n",
       "past_index=-1,\n",
       "per_device_eval_batch_size=32,\n",
       "per_device_train_batch_size=32,\n",
       "prediction_loss_only=False,\n",
       "push_to_hub=False,\n",
       "push_to_hub_model_id=None,\n",
       "push_to_hub_organization=None,\n",
       "push_to_hub_token=<PUSH_TO_HUB_TOKEN>,\n",
       "ray_scope=last,\n",
       "remove_unused_columns=True,\n",
       "report_to=['tensorboard', 'wandb'],\n",
       "restore_callback_states_from_checkpoint=False,\n",
       "resume_from_checkpoint=None,\n",
       "run_name=None,\n",
       "save_on_each_node=False,\n",
       "save_only_model=False,\n",
       "save_safetensors=True,\n",
       "save_steps=500,\n",
       "save_strategy=SaveStrategy.STEPS,\n",
       "save_total_limit=None,\n",
       "seed=42,\n",
       "skip_memory_metrics=True,\n",
       "tf32=None,\n",
       "torch_compile=False,\n",
       "torch_compile_backend=None,\n",
       "torch_compile_mode=None,\n",
       "torch_empty_cache_steps=None,\n",
       "torchdynamo=None,\n",
       "tpu_metrics_debug=False,\n",
       "tpu_num_cores=None,\n",
       "use_cpu=False,\n",
       "use_ipex=False,\n",
       "use_legacy_prediction_loop=False,\n",
       "use_liger_kernel=False,\n",
       "use_mps_device=False,\n",
       "warmup_ratio=0.0,\n",
       "warmup_steps=0,\n",
       "weight_decay=0.01,\n",
       ")"
      ]
     },
     "metadata": {},
     "execution_count": 128
    }
   ]
  },
  {
   "cell_type": "code",
   "source": [
    "def compute_metrics(eval_preds):\n",
    "  predictions, labels = eval_preds\n",
    "  predictions = np.argmax(predictions, axis=1)\n",
    "  return accuracy.compute(predictions=predictions, references=labels)"
   ],
   "metadata": {
    "id": "dtEmt5CYw9tq"
   },
   "execution_count": null,
   "outputs": []
  },
  {
   "cell_type": "code",
   "source": [
    "from transformers import Trainer"
   ],
   "metadata": {
    "id": "snuJWY9qwvZk"
   },
   "execution_count": null,
   "outputs": []
  },
  {
   "cell_type": "code",
   "source": [
    "tokenized_dataset0"
   ],
   "metadata": {
    "colab": {
     "base_uri": "https://localhost:8080/"
    },
    "id": "8Hb28xgcyH0T",
    "outputId": "9fb5498f-d128-4fd7-c50b-d19d4b609146"
   },
   "execution_count": null,
   "outputs": [
    {
     "output_type": "execute_result",
     "data": {
      "text/plain": [
       "DatasetDict({\n",
       "    train: Dataset({\n",
       "        features: ['title', 'text', 'unreliable', 'author', 'title_tokens', 'text_tokens', 'input_ids', 'attention_mask', 'labels'],\n",
       "        num_rows: 44227\n",
       "    })\n",
       "    test: Dataset({\n",
       "        features: ['title', 'text', 'unreliable', 'author', 'title_tokens', 'text_tokens', 'input_ids', 'attention_mask', 'labels'],\n",
       "        num_rows: 16111\n",
       "    })\n",
       "    validation: Dataset({\n",
       "        features: ['title', 'text', 'unreliable', 'author', 'title_tokens', 'text_tokens', 'input_ids', 'attention_mask', 'labels'],\n",
       "        num_rows: 2844\n",
       "    })\n",
       "})"
      ]
     },
     "metadata": {},
     "execution_count": 131
    }
   ]
  },
  {
   "cell_type": "code",
   "source": [
    "trainer = Trainer(\n",
    "    model=model_distilbert0,\n",
    "    compute_metrics=compute_metrics,\n",
    "    train_dataset=tokenized_dataset0[\"train\"],\n",
    "    eval_dataset=tokenized_dataset0[\"validation\"],\n",
    "    tokenizer=distilbert_model\n",
    ")"
   ],
   "metadata": {
    "colab": {
     "base_uri": "https://localhost:8080/"
    },
    "id": "RBdvmONyw2zI",
    "outputId": "c36ee8b4-21c6-4e38-b533-740376cf1dd6"
   },
   "execution_count": null,
   "outputs": [
    {
     "output_type": "stream",
     "name": "stderr",
     "text": [
      "/tmp/ipython-input-3170338959.py:1: FutureWarning: `tokenizer` is deprecated and will be removed in version 5.0.0 for `Trainer.__init__`. Use `processing_class` instead.\n",
      "  trainer = Trainer(\n"
     ]
    }
   ]
  },
  {
   "cell_type": "code",
   "source": [
    "trainer.train()"
   ],
   "metadata": {
    "colab": {
     "base_uri": "https://localhost:8080/",
     "height": 1000
    },
    "id": "gZR3BeuvyR7b",
    "outputId": "67fc4e61-ee73-4454-8a80-ad971b0b6fef"
   },
   "execution_count": null,
   "outputs": [
    {
     "output_type": "display_data",
     "data": {
      "text/plain": [
       "<IPython.core.display.Javascript object>"
      ],
      "application/javascript": [
       "\n",
       "        window._wandbApiKey = new Promise((resolve, reject) => {\n",
       "            function loadScript(url) {\n",
       "            return new Promise(function(resolve, reject) {\n",
       "                let newScript = document.createElement(\"script\");\n",
       "                newScript.onerror = reject;\n",
       "                newScript.onload = resolve;\n",
       "                document.body.appendChild(newScript);\n",
       "                newScript.src = url;\n",
       "            });\n",
       "            }\n",
       "            loadScript(\"https://cdn.jsdelivr.net/npm/postmate/build/postmate.min.js\").then(() => {\n",
       "            const iframe = document.createElement('iframe')\n",
       "            iframe.style.cssText = \"width:0;height:0;border:none\"\n",
       "            document.body.appendChild(iframe)\n",
       "            const handshake = new Postmate({\n",
       "                container: iframe,\n",
       "                url: 'https://wandb.ai/authorize'\n",
       "            });\n",
       "            const timeout = setTimeout(() => reject(\"Couldn't auto authenticate\"), 5000)\n",
       "            handshake.then(function(child) {\n",
       "                child.on('authorize', data => {\n",
       "                    clearTimeout(timeout)\n",
       "                    resolve(data)\n",
       "                });\n",
       "            });\n",
       "            })\n",
       "        });\n",
       "    "
      ]
     },
     "metadata": {}
    },
    {
     "output_type": "stream",
     "name": "stderr",
     "text": [
      "\u001b[34m\u001b[1mwandb\u001b[0m: Logging into wandb.ai. (Learn how to deploy a W&B server locally: https://wandb.me/wandb-server)\n",
      "\u001b[34m\u001b[1mwandb\u001b[0m: You can find your API key in your browser here: https://wandb.ai/authorize?ref=models\n",
      "wandb: Paste an API key from your profile and hit enter:"
     ]
    },
    {
     "name": "stdout",
     "output_type": "stream",
     "text": [
      " ··········\n"
     ]
    },
    {
     "output_type": "stream",
     "name": "stderr",
     "text": [
      "\u001b[34m\u001b[1mwandb\u001b[0m: \u001b[33mWARNING\u001b[0m If you're specifying your api key in code, ensure this code is not shared publicly.\n",
      "\u001b[34m\u001b[1mwandb\u001b[0m: \u001b[33mWARNING\u001b[0m Consider setting the WANDB_API_KEY environment variable, or running `wandb login` from the command line.\n",
      "\u001b[34m\u001b[1mwandb\u001b[0m: No netrc file found, creating one.\n",
      "\u001b[34m\u001b[1mwandb\u001b[0m: Appending key for api.wandb.ai to your netrc file: /root/.netrc\n",
      "\u001b[34m\u001b[1mwandb\u001b[0m: Currently logged in as: \u001b[33mterm101112\u001b[0m (\u001b[33mterm101112-n-a\u001b[0m) to \u001b[32mhttps://api.wandb.ai\u001b[0m. Use \u001b[1m`wandb login --relogin`\u001b[0m to force relogin\n"
     ]
    },
    {
     "output_type": "display_data",
     "data": {
      "text/plain": [
       "<IPython.core.display.HTML object>"
      ],
      "text/html": [
       "Tracking run with wandb version 0.21.1"
      ]
     },
     "metadata": {}
    },
    {
     "output_type": "display_data",
     "data": {
      "text/plain": [
       "<IPython.core.display.HTML object>"
      ],
      "text/html": [
       "Run data is saved locally in <code>/content/wandb/run-20250817_142442-9legzw18</code>"
      ]
     },
     "metadata": {}
    },
    {
     "output_type": "display_data",
     "data": {
      "text/plain": [
       "<IPython.core.display.HTML object>"
      ],
      "text/html": [
       "Syncing run <strong><a href='https://wandb.ai/term101112-n-a/huggingface/runs/9legzw18' target=\"_blank\">happy-pine-6</a></strong> to <a href='https://wandb.ai/term101112-n-a/huggingface' target=\"_blank\">Weights & Biases</a> (<a href='https://wandb.me/developer-guide' target=\"_blank\">docs</a>)<br>"
      ]
     },
     "metadata": {}
    },
    {
     "output_type": "display_data",
     "data": {
      "text/plain": [
       "<IPython.core.display.HTML object>"
      ],
      "text/html": [
       " View project at <a href='https://wandb.ai/term101112-n-a/huggingface' target=\"_blank\">https://wandb.ai/term101112-n-a/huggingface</a>"
      ]
     },
     "metadata": {}
    },
    {
     "output_type": "display_data",
     "data": {
      "text/plain": [
       "<IPython.core.display.HTML object>"
      ],
      "text/html": [
       " View run at <a href='https://wandb.ai/term101112-n-a/huggingface/runs/9legzw18' target=\"_blank\">https://wandb.ai/term101112-n-a/huggingface/runs/9legzw18</a>"
      ]
     },
     "metadata": {}
    },
    {
     "output_type": "display_data",
     "data": {
      "text/plain": [
       "<IPython.core.display.HTML object>"
      ],
      "text/html": [
       "\n",
       "    <div>\n",
       "      \n",
       "      <progress value='16587' max='16587' style='width:300px; height:20px; vertical-align: middle;'></progress>\n",
       "      [16587/16587 2:00:56, Epoch 3/3]\n",
       "    </div>\n",
       "    <table border=\"1\" class=\"dataframe\">\n",
       "  <thead>\n",
       " <tr style=\"text-align: left;\">\n",
       "      <th>Step</th>\n",
       "      <th>Training Loss</th>\n",
       "    </tr>\n",
       "  </thead>\n",
       "  <tbody>\n",
       "    <tr>\n",
       "      <td>500</td>\n",
       "      <td>0.162700</td>\n",
       "    </tr>\n",
       "    <tr>\n",
       "      <td>1000</td>\n",
       "      <td>0.061800</td>\n",
       "    </tr>\n",
       "    <tr>\n",
       "      <td>1500</td>\n",
       "      <td>0.051600</td>\n",
       "    </tr>\n",
       "    <tr>\n",
       "      <td>2000</td>\n",
       "      <td>0.041000</td>\n",
       "    </tr>\n",
       "    <tr>\n",
       "      <td>2500</td>\n",
       "      <td>0.046000</td>\n",
       "    </tr>\n",
       "    <tr>\n",
       "      <td>3000</td>\n",
       "      <td>0.037800</td>\n",
       "    </tr>\n",
       "    <tr>\n",
       "      <td>3500</td>\n",
       "      <td>0.036700</td>\n",
       "    </tr>\n",
       "    <tr>\n",
       "      <td>4000</td>\n",
       "      <td>0.027900</td>\n",
       "    </tr>\n",
       "    <tr>\n",
       "      <td>4500</td>\n",
       "      <td>0.029600</td>\n",
       "    </tr>\n",
       "    <tr>\n",
       "      <td>5000</td>\n",
       "      <td>0.020800</td>\n",
       "    </tr>\n",
       "    <tr>\n",
       "      <td>5500</td>\n",
       "      <td>0.011600</td>\n",
       "    </tr>\n",
       "    <tr>\n",
       "      <td>6000</td>\n",
       "      <td>0.009100</td>\n",
       "    </tr>\n",
       "    <tr>\n",
       "      <td>6500</td>\n",
       "      <td>0.007400</td>\n",
       "    </tr>\n",
       "    <tr>\n",
       "      <td>7000</td>\n",
       "      <td>0.019600</td>\n",
       "    </tr>\n",
       "    <tr>\n",
       "      <td>7500</td>\n",
       "      <td>0.015000</td>\n",
       "    </tr>\n",
       "    <tr>\n",
       "      <td>8000</td>\n",
       "      <td>0.014900</td>\n",
       "    </tr>\n",
       "    <tr>\n",
       "      <td>8500</td>\n",
       "      <td>0.003500</td>\n",
       "    </tr>\n",
       "    <tr>\n",
       "      <td>9000</td>\n",
       "      <td>0.014200</td>\n",
       "    </tr>\n",
       "    <tr>\n",
       "      <td>9500</td>\n",
       "      <td>0.010500</td>\n",
       "    </tr>\n",
       "    <tr>\n",
       "      <td>10000</td>\n",
       "      <td>0.005300</td>\n",
       "    </tr>\n",
       "    <tr>\n",
       "      <td>10500</td>\n",
       "      <td>0.016200</td>\n",
       "    </tr>\n",
       "    <tr>\n",
       "      <td>11000</td>\n",
       "      <td>0.017000</td>\n",
       "    </tr>\n",
       "    <tr>\n",
       "      <td>11500</td>\n",
       "      <td>0.004900</td>\n",
       "    </tr>\n",
       "    <tr>\n",
       "      <td>12000</td>\n",
       "      <td>0.002200</td>\n",
       "    </tr>\n",
       "    <tr>\n",
       "      <td>12500</td>\n",
       "      <td>0.002000</td>\n",
       "    </tr>\n",
       "    <tr>\n",
       "      <td>13000</td>\n",
       "      <td>0.000600</td>\n",
       "    </tr>\n",
       "    <tr>\n",
       "      <td>13500</td>\n",
       "      <td>0.000500</td>\n",
       "    </tr>\n",
       "    <tr>\n",
       "      <td>14000</td>\n",
       "      <td>0.004600</td>\n",
       "    </tr>\n",
       "    <tr>\n",
       "      <td>14500</td>\n",
       "      <td>0.001600</td>\n",
       "    </tr>\n",
       "    <tr>\n",
       "      <td>15000</td>\n",
       "      <td>0.002700</td>\n",
       "    </tr>\n",
       "    <tr>\n",
       "      <td>15500</td>\n",
       "      <td>0.000000</td>\n",
       "    </tr>\n",
       "    <tr>\n",
       "      <td>16000</td>\n",
       "      <td>0.000100</td>\n",
       "    </tr>\n",
       "    <tr>\n",
       "      <td>16500</td>\n",
       "      <td>0.000600</td>\n",
       "    </tr>\n",
       "  </tbody>\n",
       "</table><p>"
      ]
     },
     "metadata": {}
    },
    {
     "output_type": "execute_result",
     "data": {
      "text/plain": [
       "TrainOutput(global_step=16587, training_loss=0.020564126014411217, metrics={'train_runtime': 7535.1246, 'train_samples_per_second': 17.608, 'train_steps_per_second': 2.201, 'total_flos': 1.7575906921076736e+16, 'train_loss': 0.020564126014411217, 'epoch': 3.0})"
      ]
     },
     "metadata": {},
     "execution_count": 133
    }
   ]
  },
  {
   "cell_type": "code",
   "source": [
    "preds_output = trainer.predict(tokenized_dataset0[\"test\"])"
   ],
   "metadata": {
    "id": "H4-XtgNS1nxi",
    "colab": {
     "base_uri": "https://localhost:8080/",
     "height": 17
    },
    "outputId": "1aab8b06-1c93-4b33-98cb-b32bdb812c24"
   },
   "execution_count": null,
   "outputs": [
    {
     "output_type": "display_data",
     "data": {
      "text/plain": [
       "<IPython.core.display.HTML object>"
      ],
      "text/html": []
     },
     "metadata": {}
    }
   ]
  },
  {
   "cell_type": "code",
   "source": [
    "preds_output"
   ],
   "metadata": {
    "colab": {
     "base_uri": "https://localhost:8080/"
    },
    "id": "ALHNKafh232B",
    "outputId": "6da1f6bc-f071-4780-b3fe-17a3e0c1f8e3"
   },
   "execution_count": null,
   "outputs": [
    {
     "output_type": "execute_result",
     "data": {
      "text/plain": [
       "PredictionOutput(predictions=array([[-6.327902 ,  6.4724164],\n",
       "       [ 6.7054996, -7.6643357],\n",
       "       [ 6.759224 , -7.7025247],\n",
       "       ...,\n",
       "       [-6.3561954,  6.4896154],\n",
       "       [-6.3063745,  6.4571934],\n",
       "       [-6.3106647,  6.453131 ]], dtype=float32), label_ids=array([1, 0, 0, ..., 1, 1, 1]), metrics={'test_loss': 0.009078380651772022, 'test_accuracy': 0.9987586121283595, 'test_runtime': 249.4597, 'test_samples_per_second': 64.584, 'test_steps_per_second': 8.073})"
      ]
     },
     "metadata": {},
     "execution_count": 136
    }
   ]
  },
  {
   "cell_type": "code",
   "source": [
    "preds_output.metrics"
   ],
   "metadata": {
    "colab": {
     "base_uri": "https://localhost:8080/"
    },
    "id": "7jRRk8j_32lM",
    "outputId": "11b894ae-9b23-41e6-b4fe-8b7aad1fa988"
   },
   "execution_count": null,
   "outputs": [
    {
     "output_type": "execute_result",
     "data": {
      "text/plain": [
       "{'test_loss': 0.009078380651772022,\n",
       " 'test_accuracy': 0.9987586121283595,\n",
       " 'test_runtime': 249.4597,\n",
       " 'test_samples_per_second': 64.584,\n",
       " 'test_steps_per_second': 8.073}"
      ]
     },
     "metadata": {},
     "execution_count": 137
    }
   ]
  },
  {
   "cell_type": "code",
   "source": [
    "preds_output.predictions"
   ],
   "metadata": {
    "colab": {
     "base_uri": "https://localhost:8080/"
    },
    "id": "LbKtFGIk38D-",
    "outputId": "e835221c-eca7-4684-c025-c761daad15d7"
   },
   "execution_count": null,
   "outputs": [
    {
     "output_type": "execute_result",
     "data": {
      "text/plain": [
       "array([[-6.327902 ,  6.4724164],\n",
       "       [ 6.7054996, -7.6643357],\n",
       "       [ 6.759224 , -7.7025247],\n",
       "       ...,\n",
       "       [-6.3561954,  6.4896154],\n",
       "       [-6.3063745,  6.4571934],\n",
       "       [-6.3106647,  6.453131 ]], dtype=float32)"
      ]
     },
     "metadata": {},
     "execution_count": 138
    }
   ]
  },
  {
   "cell_type": "code",
   "source": [
    "y_preds = np.argmax(preds_output.predictions, axis=1)"
   ],
   "metadata": {
    "id": "XTYXwlkh4YOr"
   },
   "execution_count": null,
   "outputs": []
  },
  {
   "cell_type": "code",
   "source": [
    "y_preds"
   ],
   "metadata": {
    "colab": {
     "base_uri": "https://localhost:8080/"
    },
    "id": "a8uhZIzj4eNY",
    "outputId": "47998b95-d65f-4290-84f3-722a1993a591"
   },
   "execution_count": null,
   "outputs": [
    {
     "output_type": "execute_result",
     "data": {
      "text/plain": [
       "array([1, 0, 0, ..., 1, 1, 1])"
      ]
     },
     "metadata": {},
     "execution_count": 140
    }
   ]
  },
  {
   "cell_type": "code",
   "source": [
    "tokenized_dataset0"
   ],
   "metadata": {
    "colab": {
     "base_uri": "https://localhost:8080/"
    },
    "id": "z62PxHcl4vzo",
    "outputId": "a413c926-d74b-41c0-e0ba-a6a5f83d8a76"
   },
   "execution_count": null,
   "outputs": [
    {
     "output_type": "execute_result",
     "data": {
      "text/plain": [
       "DatasetDict({\n",
       "    train: Dataset({\n",
       "        features: ['title', 'text', 'unreliable', 'author', 'title_tokens', 'text_tokens', 'input_ids', 'attention_mask', 'labels'],\n",
       "        num_rows: 44227\n",
       "    })\n",
       "    test: Dataset({\n",
       "        features: ['title', 'text', 'unreliable', 'author', 'title_tokens', 'text_tokens', 'input_ids', 'attention_mask', 'labels'],\n",
       "        num_rows: 16111\n",
       "    })\n",
       "    validation: Dataset({\n",
       "        features: ['title', 'text', 'unreliable', 'author', 'title_tokens', 'text_tokens', 'input_ids', 'attention_mask', 'labels'],\n",
       "        num_rows: 2844\n",
       "    })\n",
       "})"
      ]
     },
     "metadata": {},
     "execution_count": 141
    }
   ]
  },
  {
   "cell_type": "code",
   "source": [
    "y_true = tokenized_dataset0[\"test\"][:][\"labels\"]"
   ],
   "metadata": {
    "id": "KIbkDPII4er1"
   },
   "execution_count": null,
   "outputs": []
  },
  {
   "cell_type": "code",
   "source": [
    "y_true[:4]"
   ],
   "metadata": {
    "colab": {
     "base_uri": "https://localhost:8080/"
    },
    "id": "JPvyDq4s45Yu",
    "outputId": "29314056-bc66-4e03-b397-71757221e115"
   },
   "execution_count": null,
   "outputs": [
    {
     "output_type": "execute_result",
     "data": {
      "text/plain": [
       "[1, 0, 0, 1]"
      ]
     },
     "metadata": {},
     "execution_count": 144
    }
   ]
  },
  {
   "cell_type": "code",
   "source": [
    "y_true[-3:]"
   ],
   "metadata": {
    "colab": {
     "base_uri": "https://localhost:8080/"
    },
    "id": "J9c5STFA4_Qo",
    "outputId": "22ea3e8f-8390-4130-8d34-824b9e51ce6b"
   },
   "execution_count": null,
   "outputs": [
    {
     "output_type": "execute_result",
     "data": {
      "text/plain": [
       "[1, 1, 1]"
      ]
     },
     "metadata": {},
     "execution_count": 146
    }
   ]
  },
  {
   "cell_type": "code",
   "source": [
    "from sklearn.metrics import classification_report"
   ],
   "metadata": {
    "id": "IlpddK_15C--"
   },
   "execution_count": null,
   "outputs": []
  },
  {
   "cell_type": "code",
   "source": [
    "print(classification_report(y_true, y_preds))"
   ],
   "metadata": {
    "colab": {
     "base_uri": "https://localhost:8080/"
    },
    "id": "BdfYJCUE5ITI",
    "outputId": "325e68c7-6321-4d6f-cb6b-72d1a6aa003a"
   },
   "execution_count": null,
   "outputs": [
    {
     "output_type": "stream",
     "name": "stdout",
     "text": [
      "              precision    recall  f1-score   support\n",
      "\n",
      "           0       1.00      1.00      1.00      8103\n",
      "           1       1.00      1.00      1.00      8008\n",
      "\n",
      "    accuracy                           1.00     16111\n",
      "   macro avg       1.00      1.00      1.00     16111\n",
      "weighted avg       1.00      1.00      1.00     16111\n",
      "\n"
     ]
    }
   ]
  },
  {
   "cell_type": "code",
   "source": [
    "from sklearn.metrics import confusion_matrix"
   ],
   "metadata": {
    "id": "IH4AO7Qf5K85"
   },
   "execution_count": null,
   "outputs": []
  },
  {
   "cell_type": "code",
   "source": [
    "print(confusion_matrix(y_true, y_preds))"
   ],
   "metadata": {
    "colab": {
     "base_uri": "https://localhost:8080/"
    },
    "id": "RdolSwC_5Oh4",
    "outputId": "f674fc7e-1223-4928-9d47-b93ead5a1051"
   },
   "execution_count": null,
   "outputs": [
    {
     "output_type": "stream",
     "name": "stdout",
     "text": [
      "[[8090   13]\n",
      " [   7 8001]]\n"
     ]
    }
   ]
  },
  {
   "cell_type": "code",
   "source": [
    "from sklearn.metrics import accuracy_score, f1_score"
   ],
   "metadata": {
    "id": "aYHs6Bu35RZU"
   },
   "execution_count": null,
   "outputs": []
  },
  {
   "cell_type": "code",
   "source": [
    "def compute_metrics(pred):\n",
    "  labels = pred.label_ids\n",
    "  preds = pred.predictions.argmax(-1)\n",
    "\n",
    "  f1 = f1_score(labels, preds, average=\"weighted\")\n",
    "  acc = accuracy_score(y_true, y_preds)\n",
    "\n",
    "  return {\"accuracy\": acc, \"f1_score\": f1}"
   ],
   "metadata": {
    "id": "aAJN4oHz5sww"
   },
   "execution_count": null,
   "outputs": []
  },
  {
   "cell_type": "code",
   "source": [
    "preds_output.label_ids"
   ],
   "metadata": {
    "colab": {
     "base_uri": "https://localhost:8080/"
    },
    "id": "1obJv9kx62AF",
    "outputId": "d133ad75-04ec-4c53-f4ad-b08dc6ba0938"
   },
   "execution_count": null,
   "outputs": [
    {
     "output_type": "execute_result",
     "data": {
      "text/plain": [
       "array([1, 0, 0, ..., 1, 1, 1])"
      ]
     },
     "metadata": {},
     "execution_count": 159
    }
   ]
  },
  {
   "cell_type": "code",
   "source": [
    "compute_metrics(preds_output)"
   ],
   "metadata": {
    "colab": {
     "base_uri": "https://localhost:8080/"
    },
    "id": "fWn0catb61-A",
    "outputId": "44248224-d136-4b3d-f6f4-a612672d7321"
   },
   "execution_count": null,
   "outputs": [
    {
     "output_type": "execute_result",
     "data": {
      "text/plain": [
       "{'accuracy': 0.9987586121283595, 'f1_score': 0.9987586146823367}"
      ]
     },
     "metadata": {},
     "execution_count": 160
    }
   ]
  },
  {
   "cell_type": "code",
   "source": [
    "trainer.save_model(\"fake-news-DistilBERT\")"
   ],
   "metadata": {
    "id": "_TUJ5f_b9UsD"
   },
   "execution_count": 169,
   "outputs": []
  },
  {
   "cell_type": "code",
   "source": [
    "!zip -r /content/fake-news-DistilBERT.zip /content/fake-news-DistilBERT"
   ],
   "metadata": {
    "colab": {
     "base_uri": "https://localhost:8080/"
    },
    "id": "MryTn6Y19hRG",
    "outputId": "f3056d8e-6a0c-4d77-953c-7417a242d5d9"
   },
   "execution_count": 164,
   "outputs": [
    {
     "output_type": "stream",
     "name": "stdout",
     "text": [
      "  adding: content/fake-news-DistilBERT/ (stored 0%)\n",
      "  adding: content/fake-news-DistilBERT/.ipynb_checkpoints/ (stored 0%)\n",
      "  adding: content/fake-news-DistilBERT/config.json (deflated 47%)\n",
      "  adding: content/fake-news-DistilBERT/vocab.txt (deflated 53%)\n",
      "  adding: content/fake-news-DistilBERT/tokenizer_config.json (deflated 75%)\n",
      "  adding: content/fake-news-DistilBERT/tokenizer.json (deflated 71%)\n",
      "  adding: content/fake-news-DistilBERT/special_tokens_map.json (deflated 42%)\n"
     ]
    }
   ]
  },
  {
   "cell_type": "code",
   "source": [
    "from google.colab import files"
   ],
   "metadata": {
    "id": "BCDlrJBN-Wz4"
   },
   "execution_count": 165,
   "outputs": []
  },
  {
   "cell_type": "code",
   "source": [
    "files.download('/content/fake-news-DistilBERT.zip')"
   ],
   "metadata": {
    "colab": {
     "base_uri": "https://localhost:8080/",
     "height": 17
    },
    "id": "Fo9KVLda-Ryj",
    "outputId": "72311482-f968-464c-94ce-643ee18bad10"
   },
   "execution_count": 166,
   "outputs": [
    {
     "output_type": "display_data",
     "data": {
      "text/plain": [
       "<IPython.core.display.Javascript object>"
      ],
      "application/javascript": [
       "\n",
       "    async function download(id, filename, size) {\n",
       "      if (!google.colab.kernel.accessAllowed) {\n",
       "        return;\n",
       "      }\n",
       "      const div = document.createElement('div');\n",
       "      const label = document.createElement('label');\n",
       "      label.textContent = `Downloading \"${filename}\": `;\n",
       "      div.appendChild(label);\n",
       "      const progress = document.createElement('progress');\n",
       "      progress.max = size;\n",
       "      div.appendChild(progress);\n",
       "      document.body.appendChild(div);\n",
       "\n",
       "      const buffers = [];\n",
       "      let downloaded = 0;\n",
       "\n",
       "      const channel = await google.colab.kernel.comms.open(id);\n",
       "      // Send a message to notify the kernel that we're ready.\n",
       "      channel.send({})\n",
       "\n",
       "      for await (const message of channel.messages) {\n",
       "        // Send a message to notify the kernel that we're ready.\n",
       "        channel.send({})\n",
       "        if (message.buffers) {\n",
       "          for (const buffer of message.buffers) {\n",
       "            buffers.push(buffer);\n",
       "            downloaded += buffer.byteLength;\n",
       "            progress.value = downloaded;\n",
       "          }\n",
       "        }\n",
       "      }\n",
       "      const blob = new Blob(buffers, {type: 'application/binary'});\n",
       "      const a = document.createElement('a');\n",
       "      a.href = window.URL.createObjectURL(blob);\n",
       "      a.download = filename;\n",
       "      div.appendChild(a);\n",
       "      a.click();\n",
       "      div.remove();\n",
       "    }\n",
       "  "
      ]
     },
     "metadata": {}
    },
    {
     "output_type": "display_data",
     "data": {
      "text/plain": [
       "<IPython.core.display.Javascript object>"
      ],
      "application/javascript": [
       "download(\"download_20f3b04a-49e5-424e-ae08-e894e1b827e7\", \"fake-news-DistilBERT.zip\", 321231)"
      ]
     },
     "metadata": {}
    }
   ]
  },
  {
   "cell_type": "code",
   "source": [
    "from transformers import pipeline"
   ],
   "metadata": {
    "id": "8H_XFyvS-XYA"
   },
   "execution_count": 167,
   "outputs": []
  },
  {
   "cell_type": "code",
   "source": [
    "pipe = pipeline(\"text-classification\", model=\"fake-news-DistilBERT\")"
   ],
   "metadata": {
    "colab": {
     "base_uri": "https://localhost:8080/"
    },
    "id": "zlATGMCx-ojY",
    "outputId": "d6f4d0a3-d8b3-414d-cb68-dfee6a3cef3a"
   },
   "execution_count": 170,
   "outputs": [
    {
     "output_type": "stream",
     "name": "stderr",
     "text": [
      "Device set to use cuda:0\n"
     ]
    }
   ]
  },
  {
   "cell_type": "code",
   "source": [
    "pipe(\"The media has been talking all day about Trump and the Republican Party\")"
   ],
   "metadata": {
    "colab": {
     "base_uri": "https://localhost:8080/"
    },
    "id": "eKTVQ6ZZ-r3G",
    "outputId": "c2f628b8-1635-4935-dbd5-a8be8373644e"
   },
   "execution_count": 172,
   "outputs": [
    {
     "output_type": "execute_result",
     "data": {
      "text/plain": [
       "[{'label': 'Unreliable', 'score': 0.9999922513961792}]"
      ]
     },
     "metadata": {},
     "execution_count": 172
    }
   ]
  },
  {
   "cell_type": "code",
   "source": [
    "pipe(\"WASHINGTON (Reuters) - The head of a conservative Republican faction in the U.S.\")"
   ],
   "metadata": {
    "colab": {
     "base_uri": "https://localhost:8080/"
    },
    "id": "CwkcUikU_uBQ",
    "outputId": "1809b096-655e-4332-87a2-f8c766a81fec"
   },
   "execution_count": 174,
   "outputs": [
    {
     "output_type": "execute_result",
     "data": {
      "text/plain": [
       "[{'label': 'Reliable', 'score': 0.9999995231628418}]"
      ]
     },
     "metadata": {},
     "execution_count": 174
    }
   ]
  },
  {
   "cell_type": "code",
   "source": [],
   "metadata": {
    "id": "-gWKDGem_w6t"
   },
   "execution_count": null,
   "outputs": []
  }
 ]
}